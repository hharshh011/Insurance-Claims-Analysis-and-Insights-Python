{
 "cells": [
  {
   "cell_type": "code",
   "execution_count": 1,
   "id": "9ca53acb",
   "metadata": {},
   "outputs": [],
   "source": [
    "import numpy as np\n",
    "import pandas as pd\n",
    "from pandas import DataFrame\n",
    "from matplotlib import pyplot as plt\n",
    "import seaborn as sns\n",
    "import datetime"
   ]
  },
  {
   "cell_type": "code",
   "execution_count": 19,
   "id": "715a707c",
   "metadata": {},
   "outputs": [],
   "source": [
    "# 1. Import claims_data.csv and cust_data.csv which is provided to you and combine the two datasets appropriately to create a 360-degree view of the data. Use the same for the subsequent questions."
   ]
  },
  {
   "cell_type": "code",
   "execution_count": 2,
   "id": "03a2815b",
   "metadata": {},
   "outputs": [],
   "source": [
    "claims= pd.read_csv(\"C://Users//harsh//OneDrive//Documents//Python Case Studies//Case Study 3 - Insurance Claims Case Study//claims.csv\")\n",
    "cust= pd.read_csv(\"C://Users//harsh//OneDrive//Documents//Python Case Studies//Case Study 3 - Insurance Claims Case Study//cust_demographics.csv\")\n"
   ]
  },
  {
   "cell_type": "code",
   "execution_count": 3,
   "id": "249bbd87",
   "metadata": {},
   "outputs": [
    {
     "data": {
      "text/html": [
       "<div>\n",
       "<style scoped>\n",
       "    .dataframe tbody tr th:only-of-type {\n",
       "        vertical-align: middle;\n",
       "    }\n",
       "\n",
       "    .dataframe tbody tr th {\n",
       "        vertical-align: top;\n",
       "    }\n",
       "\n",
       "    .dataframe thead th {\n",
       "        text-align: right;\n",
       "    }\n",
       "</style>\n",
       "<table border=\"1\" class=\"dataframe\">\n",
       "  <thead>\n",
       "    <tr style=\"text-align: right;\">\n",
       "      <th></th>\n",
       "      <th>claim_id</th>\n",
       "      <th>customer_id</th>\n",
       "      <th>incident_cause</th>\n",
       "      <th>claim_date</th>\n",
       "      <th>claim_area</th>\n",
       "      <th>police_report</th>\n",
       "      <th>claim_type</th>\n",
       "      <th>claim_amount</th>\n",
       "      <th>total_policy_claims</th>\n",
       "      <th>fraudulent</th>\n",
       "    </tr>\n",
       "  </thead>\n",
       "  <tbody>\n",
       "    <tr>\n",
       "      <th>0</th>\n",
       "      <td>54004764</td>\n",
       "      <td>21868593</td>\n",
       "      <td>Driver error</td>\n",
       "      <td>11/27/2017</td>\n",
       "      <td>Auto</td>\n",
       "      <td>No</td>\n",
       "      <td>Material only</td>\n",
       "      <td>$2980</td>\n",
       "      <td>1.0</td>\n",
       "      <td>No</td>\n",
       "    </tr>\n",
       "    <tr>\n",
       "      <th>1</th>\n",
       "      <td>33985796</td>\n",
       "      <td>75740424</td>\n",
       "      <td>Crime</td>\n",
       "      <td>10/03/2018</td>\n",
       "      <td>Home</td>\n",
       "      <td>Unknown</td>\n",
       "      <td>Material only</td>\n",
       "      <td>$2980</td>\n",
       "      <td>3.0</td>\n",
       "      <td>No</td>\n",
       "    </tr>\n",
       "    <tr>\n",
       "      <th>2</th>\n",
       "      <td>53522022</td>\n",
       "      <td>30308357</td>\n",
       "      <td>Other driver error</td>\n",
       "      <td>02/02/2018</td>\n",
       "      <td>Auto</td>\n",
       "      <td>No</td>\n",
       "      <td>Material only</td>\n",
       "      <td>$3369.5</td>\n",
       "      <td>1.0</td>\n",
       "      <td>Yes</td>\n",
       "    </tr>\n",
       "    <tr>\n",
       "      <th>3</th>\n",
       "      <td>13015401</td>\n",
       "      <td>47830476</td>\n",
       "      <td>Natural causes</td>\n",
       "      <td>06/17/2018</td>\n",
       "      <td>Auto</td>\n",
       "      <td>No</td>\n",
       "      <td>Material only</td>\n",
       "      <td>$1680</td>\n",
       "      <td>1.0</td>\n",
       "      <td>No</td>\n",
       "    </tr>\n",
       "    <tr>\n",
       "      <th>4</th>\n",
       "      <td>22890252</td>\n",
       "      <td>19269962</td>\n",
       "      <td>Crime</td>\n",
       "      <td>01/13/2018</td>\n",
       "      <td>Auto</td>\n",
       "      <td>No</td>\n",
       "      <td>Material only</td>\n",
       "      <td>$2680</td>\n",
       "      <td>1.0</td>\n",
       "      <td>No</td>\n",
       "    </tr>\n",
       "    <tr>\n",
       "      <th>...</th>\n",
       "      <td>...</td>\n",
       "      <td>...</td>\n",
       "      <td>...</td>\n",
       "      <td>...</td>\n",
       "      <td>...</td>\n",
       "      <td>...</td>\n",
       "      <td>...</td>\n",
       "      <td>...</td>\n",
       "      <td>...</td>\n",
       "      <td>...</td>\n",
       "    </tr>\n",
       "    <tr>\n",
       "      <th>1095</th>\n",
       "      <td>97727122</td>\n",
       "      <td>35951012</td>\n",
       "      <td>Other driver error</td>\n",
       "      <td>06/11/2017</td>\n",
       "      <td>Auto</td>\n",
       "      <td>No</td>\n",
       "      <td>Material only</td>\n",
       "      <td>$3059</td>\n",
       "      <td>4.0</td>\n",
       "      <td>Yes</td>\n",
       "    </tr>\n",
       "    <tr>\n",
       "      <th>1096</th>\n",
       "      <td>10247193</td>\n",
       "      <td>14818669</td>\n",
       "      <td>Natural causes</td>\n",
       "      <td>03/14/2018</td>\n",
       "      <td>Auto</td>\n",
       "      <td>No</td>\n",
       "      <td>Material only</td>\n",
       "      <td>$1520</td>\n",
       "      <td>2.0</td>\n",
       "      <td>No</td>\n",
       "    </tr>\n",
       "    <tr>\n",
       "      <th>1097</th>\n",
       "      <td>79807493</td>\n",
       "      <td>85322831</td>\n",
       "      <td>Other driver error</td>\n",
       "      <td>02/09/2018</td>\n",
       "      <td>Auto</td>\n",
       "      <td>No</td>\n",
       "      <td>Material and injury</td>\n",
       "      <td>$23575</td>\n",
       "      <td>2.0</td>\n",
       "      <td>Yes</td>\n",
       "    </tr>\n",
       "    <tr>\n",
       "      <th>1098</th>\n",
       "      <td>69299345</td>\n",
       "      <td>73449366</td>\n",
       "      <td>Other causes</td>\n",
       "      <td>03/21/2018</td>\n",
       "      <td>Auto</td>\n",
       "      <td>Unknown</td>\n",
       "      <td>Material and injury</td>\n",
       "      <td>$25120</td>\n",
       "      <td>1.0</td>\n",
       "      <td>No</td>\n",
       "    </tr>\n",
       "    <tr>\n",
       "      <th>1099</th>\n",
       "      <td>58809728</td>\n",
       "      <td>43020876</td>\n",
       "      <td>Other driver error</td>\n",
       "      <td>06/04/2017</td>\n",
       "      <td>Auto</td>\n",
       "      <td>Yes</td>\n",
       "      <td>Material and injury</td>\n",
       "      <td>$36685</td>\n",
       "      <td>3.0</td>\n",
       "      <td>Yes</td>\n",
       "    </tr>\n",
       "  </tbody>\n",
       "</table>\n",
       "<p>1100 rows × 10 columns</p>\n",
       "</div>"
      ],
      "text/plain": [
       "      claim_id  customer_id      incident_cause  claim_date claim_area  \\\n",
       "0     54004764     21868593        Driver error  11/27/2017       Auto   \n",
       "1     33985796     75740424               Crime  10/03/2018       Home   \n",
       "2     53522022     30308357  Other driver error  02/02/2018       Auto   \n",
       "3     13015401     47830476      Natural causes  06/17/2018       Auto   \n",
       "4     22890252     19269962               Crime  01/13/2018       Auto   \n",
       "...        ...          ...                 ...         ...        ...   \n",
       "1095  97727122     35951012  Other driver error  06/11/2017       Auto   \n",
       "1096  10247193     14818669      Natural causes  03/14/2018       Auto   \n",
       "1097  79807493     85322831  Other driver error  02/09/2018       Auto   \n",
       "1098  69299345     73449366        Other causes  03/21/2018       Auto   \n",
       "1099  58809728     43020876  Other driver error  06/04/2017       Auto   \n",
       "\n",
       "     police_report           claim_type claim_amount  total_policy_claims  \\\n",
       "0               No        Material only        $2980                  1.0   \n",
       "1          Unknown        Material only        $2980                  3.0   \n",
       "2               No        Material only      $3369.5                  1.0   \n",
       "3               No        Material only        $1680                  1.0   \n",
       "4               No        Material only        $2680                  1.0   \n",
       "...            ...                  ...          ...                  ...   \n",
       "1095            No        Material only        $3059                  4.0   \n",
       "1096            No        Material only        $1520                  2.0   \n",
       "1097            No  Material and injury       $23575                  2.0   \n",
       "1098       Unknown  Material and injury       $25120                  1.0   \n",
       "1099           Yes  Material and injury       $36685                  3.0   \n",
       "\n",
       "     fraudulent  \n",
       "0            No  \n",
       "1            No  \n",
       "2           Yes  \n",
       "3            No  \n",
       "4            No  \n",
       "...         ...  \n",
       "1095        Yes  \n",
       "1096         No  \n",
       "1097        Yes  \n",
       "1098         No  \n",
       "1099        Yes  \n",
       "\n",
       "[1100 rows x 10 columns]"
      ]
     },
     "execution_count": 3,
     "metadata": {},
     "output_type": "execute_result"
    }
   ],
   "source": [
    "claims"
   ]
  },
  {
   "cell_type": "code",
   "execution_count": 4,
   "id": "9d0bab2f",
   "metadata": {},
   "outputs": [
    {
     "data": {
      "text/html": [
       "<div>\n",
       "<style scoped>\n",
       "    .dataframe tbody tr th:only-of-type {\n",
       "        vertical-align: middle;\n",
       "    }\n",
       "\n",
       "    .dataframe tbody tr th {\n",
       "        vertical-align: top;\n",
       "    }\n",
       "\n",
       "    .dataframe thead th {\n",
       "        text-align: right;\n",
       "    }\n",
       "</style>\n",
       "<table border=\"1\" class=\"dataframe\">\n",
       "  <thead>\n",
       "    <tr style=\"text-align: right;\">\n",
       "      <th></th>\n",
       "      <th>CUST_ID</th>\n",
       "      <th>gender</th>\n",
       "      <th>DateOfBirth</th>\n",
       "      <th>State</th>\n",
       "      <th>Contact</th>\n",
       "      <th>Segment</th>\n",
       "    </tr>\n",
       "  </thead>\n",
       "  <tbody>\n",
       "    <tr>\n",
       "      <th>0</th>\n",
       "      <td>21868593</td>\n",
       "      <td>Female</td>\n",
       "      <td>12-Jan-79</td>\n",
       "      <td>VT</td>\n",
       "      <td>789-916-8172</td>\n",
       "      <td>Platinum</td>\n",
       "    </tr>\n",
       "    <tr>\n",
       "      <th>1</th>\n",
       "      <td>75740424</td>\n",
       "      <td>Female</td>\n",
       "      <td>13-Jan-70</td>\n",
       "      <td>ME</td>\n",
       "      <td>265-543-1264</td>\n",
       "      <td>Silver</td>\n",
       "    </tr>\n",
       "    <tr>\n",
       "      <th>2</th>\n",
       "      <td>30308357</td>\n",
       "      <td>Female</td>\n",
       "      <td>11-Mar-84</td>\n",
       "      <td>TN</td>\n",
       "      <td>798-631-4758</td>\n",
       "      <td>Silver</td>\n",
       "    </tr>\n",
       "    <tr>\n",
       "      <th>3</th>\n",
       "      <td>47830476</td>\n",
       "      <td>Female</td>\n",
       "      <td>01-May-86</td>\n",
       "      <td>MA</td>\n",
       "      <td>413-187-7945</td>\n",
       "      <td>Silver</td>\n",
       "    </tr>\n",
       "    <tr>\n",
       "      <th>4</th>\n",
       "      <td>19269962</td>\n",
       "      <td>Male</td>\n",
       "      <td>13-May-77</td>\n",
       "      <td>NV</td>\n",
       "      <td>956-871-8691</td>\n",
       "      <td>Gold</td>\n",
       "    </tr>\n",
       "    <tr>\n",
       "      <th>...</th>\n",
       "      <td>...</td>\n",
       "      <td>...</td>\n",
       "      <td>...</td>\n",
       "      <td>...</td>\n",
       "      <td>...</td>\n",
       "      <td>...</td>\n",
       "    </tr>\n",
       "    <tr>\n",
       "      <th>1080</th>\n",
       "      <td>79539873</td>\n",
       "      <td>Female</td>\n",
       "      <td>15-Mar-81</td>\n",
       "      <td>ND</td>\n",
       "      <td>459-425-4319</td>\n",
       "      <td>Platinum</td>\n",
       "    </tr>\n",
       "    <tr>\n",
       "      <th>1081</th>\n",
       "      <td>42364152</td>\n",
       "      <td>Female</td>\n",
       "      <td>07-Jul-96</td>\n",
       "      <td>ID</td>\n",
       "      <td>529-462-1635</td>\n",
       "      <td>Silver</td>\n",
       "    </tr>\n",
       "    <tr>\n",
       "      <th>1082</th>\n",
       "      <td>19888166</td>\n",
       "      <td>Male</td>\n",
       "      <td>11-Apr-90</td>\n",
       "      <td>WI</td>\n",
       "      <td>712-651-9613</td>\n",
       "      <td>Gold</td>\n",
       "    </tr>\n",
       "    <tr>\n",
       "      <th>1083</th>\n",
       "      <td>11256802</td>\n",
       "      <td>Female</td>\n",
       "      <td>22-Oct-64</td>\n",
       "      <td>LA</td>\n",
       "      <td>469-345-5617</td>\n",
       "      <td>Silver</td>\n",
       "    </tr>\n",
       "    <tr>\n",
       "      <th>1084</th>\n",
       "      <td>61575264</td>\n",
       "      <td>Male</td>\n",
       "      <td>12-Jul-95</td>\n",
       "      <td>WY</td>\n",
       "      <td>182-385-1392</td>\n",
       "      <td>Gold</td>\n",
       "    </tr>\n",
       "  </tbody>\n",
       "</table>\n",
       "<p>1085 rows × 6 columns</p>\n",
       "</div>"
      ],
      "text/plain": [
       "       CUST_ID  gender DateOfBirth State       Contact   Segment\n",
       "0     21868593  Female   12-Jan-79    VT  789-916-8172  Platinum\n",
       "1     75740424  Female   13-Jan-70    ME  265-543-1264    Silver\n",
       "2     30308357  Female   11-Mar-84    TN  798-631-4758    Silver\n",
       "3     47830476  Female   01-May-86    MA  413-187-7945    Silver\n",
       "4     19269962    Male   13-May-77    NV  956-871-8691      Gold\n",
       "...        ...     ...         ...   ...           ...       ...\n",
       "1080  79539873  Female   15-Mar-81    ND  459-425-4319  Platinum\n",
       "1081  42364152  Female   07-Jul-96    ID  529-462-1635    Silver\n",
       "1082  19888166    Male   11-Apr-90    WI  712-651-9613      Gold\n",
       "1083  11256802  Female   22-Oct-64    LA  469-345-5617    Silver\n",
       "1084  61575264    Male   12-Jul-95    WY  182-385-1392      Gold\n",
       "\n",
       "[1085 rows x 6 columns]"
      ]
     },
     "execution_count": 4,
     "metadata": {},
     "output_type": "execute_result"
    }
   ],
   "source": [
    "cust"
   ]
  },
  {
   "cell_type": "code",
   "execution_count": 5,
   "id": "a5ebe0f2",
   "metadata": {},
   "outputs": [],
   "source": [
    "Cust_claims= claims.merge(cust, left_on=['customer_id'], right_on=['CUST_ID'], how='inner')"
   ]
  },
  {
   "cell_type": "code",
   "execution_count": 6,
   "id": "b5ee4524",
   "metadata": {},
   "outputs": [
    {
     "name": "stdout",
     "output_type": "stream",
     "text": [
      "<class 'pandas.core.frame.DataFrame'>\n",
      "Int64Index: 1085 entries, 0 to 1084\n",
      "Data columns (total 16 columns):\n",
      " #   Column               Non-Null Count  Dtype  \n",
      "---  ------               --------------  -----  \n",
      " 0   claim_id             1085 non-null   int64  \n",
      " 1   customer_id          1085 non-null   int64  \n",
      " 2   incident_cause       1085 non-null   object \n",
      " 3   claim_date           1085 non-null   object \n",
      " 4   claim_area           1085 non-null   object \n",
      " 5   police_report        1085 non-null   object \n",
      " 6   claim_type           1085 non-null   object \n",
      " 7   claim_amount         1020 non-null   object \n",
      " 8   total_policy_claims  1075 non-null   float64\n",
      " 9   fraudulent           1085 non-null   object \n",
      " 10  CUST_ID              1085 non-null   int64  \n",
      " 11  gender               1085 non-null   object \n",
      " 12  DateOfBirth          1085 non-null   object \n",
      " 13  State                1085 non-null   object \n",
      " 14  Contact              1085 non-null   object \n",
      " 15  Segment              1085 non-null   object \n",
      "dtypes: float64(1), int64(3), object(12)\n",
      "memory usage: 144.1+ KB\n"
     ]
    }
   ],
   "source": [
    "Cust_claims.info()"
   ]
  },
  {
   "cell_type": "code",
   "execution_count": 21,
   "id": "3eae0232",
   "metadata": {},
   "outputs": [],
   "source": [
    "# 2. Perform a data audit for the datatypes and find out if there are any mismatch within the current datatypes of the columns and their business significance"
   ]
  },
  {
   "cell_type": "code",
   "execution_count": 7,
   "id": "c17baee1",
   "metadata": {},
   "outputs": [],
   "source": [
    "numeric_columns = Cust_claims.select_dtypes(include = ['float64', 'int64'])\n",
    "object_columns = Cust_claims.select_dtypes(include = ['object'])"
   ]
  },
  {
   "cell_type": "code",
   "execution_count": 8,
   "id": "2525f37b",
   "metadata": {},
   "outputs": [],
   "source": [
    "def continuous_var_summary( x ):\n",
    "    \n",
    "    # freq and missings\n",
    "    n_total = x.shape[0]\n",
    "    n_miss = x.isna().sum()\n",
    "    perc_miss = n_miss * 100 / n_total\n",
    "    \n",
    "    # outliers - iqr\n",
    "    q1 = x.quantile(0.25)\n",
    "    q3 = x.quantile(0.75)\n",
    "    iqr = q3 - q1\n",
    "    lc_iqr = q1 - 1.5 * iqr\n",
    "    uc_iqr = q3 + 1.5 * iqr\n",
    " \n",
    "    return pd.Series( [ x.dtype, x.nunique(), n_total, x.count(), n_miss, perc_miss,\n",
    "                       x.sum(), x.mean(), x.std(), x.var(), \n",
    "                       lc_iqr, uc_iqr, \n",
    "                       x.min(), x.quantile(0.01), x.quantile(0.05), x.quantile(0.10), \n",
    "                       x.quantile(0.25), x.quantile(0.5), x.quantile(0.75), \n",
    "                       x.quantile(0.90), x.quantile(0.95), x.quantile(0.99), x.max() ], \n",
    "                     \n",
    "                    index = ['dtype', 'cardinality', 'n_tot', 'n', 'nmiss', 'perc_miss',\n",
    "                             'sum', 'mean', 'std', 'var',\n",
    "                        'lc_iqr', 'uc_iqr',\n",
    "                        'min', 'p1', 'p5', 'p10', 'p25', 'p50', 'p75', 'p90', 'p95', 'p99', 'max']) "
   ]
  },
  {
   "cell_type": "code",
   "execution_count": 9,
   "id": "e8fbec4c",
   "metadata": {},
   "outputs": [],
   "source": [
    "def categorical_var_summary( x ):\n",
    "    \n",
    "    Mode = x.value_counts().sort_values(ascending = False)[0:1].reset_index()\n",
    "    return pd.Series([x.count(), x.isnull().sum(), Mode.iloc[0, 0], Mode.iloc[0, 1], \n",
    "                          round(Mode.iloc[0, 1] * 100 / x.count(), 2)], \n",
    "                     \n",
    "                  index = ['n', 'nmiss', 'MODE', 'FREQ', 'PERCENT'])\n"
   ]
  },
  {
   "cell_type": "code",
   "execution_count": 10,
   "id": "2a2f55ad",
   "metadata": {},
   "outputs": [
    {
     "data": {
      "text/html": [
       "<div>\n",
       "<style scoped>\n",
       "    .dataframe tbody tr th:only-of-type {\n",
       "        vertical-align: middle;\n",
       "    }\n",
       "\n",
       "    .dataframe tbody tr th {\n",
       "        vertical-align: top;\n",
       "    }\n",
       "\n",
       "    .dataframe thead th {\n",
       "        text-align: right;\n",
       "    }\n",
       "</style>\n",
       "<table border=\"1\" class=\"dataframe\">\n",
       "  <thead>\n",
       "    <tr style=\"text-align: right;\">\n",
       "      <th></th>\n",
       "      <th>claim_id</th>\n",
       "      <th>customer_id</th>\n",
       "      <th>total_policy_claims</th>\n",
       "      <th>CUST_ID</th>\n",
       "    </tr>\n",
       "  </thead>\n",
       "  <tbody>\n",
       "    <tr>\n",
       "      <th>dtype</th>\n",
       "      <td>int64</td>\n",
       "      <td>int64</td>\n",
       "      <td>float64</td>\n",
       "      <td>int64</td>\n",
       "    </tr>\n",
       "    <tr>\n",
       "      <th>cardinality</th>\n",
       "      <td>1085</td>\n",
       "      <td>1078</td>\n",
       "      <td>8</td>\n",
       "      <td>1078</td>\n",
       "    </tr>\n",
       "    <tr>\n",
       "      <th>n_tot</th>\n",
       "      <td>1085</td>\n",
       "      <td>1085</td>\n",
       "      <td>1085</td>\n",
       "      <td>1085</td>\n",
       "    </tr>\n",
       "    <tr>\n",
       "      <th>n</th>\n",
       "      <td>1085</td>\n",
       "      <td>1085</td>\n",
       "      <td>1075</td>\n",
       "      <td>1085</td>\n",
       "    </tr>\n",
       "    <tr>\n",
       "      <th>nmiss</th>\n",
       "      <td>0</td>\n",
       "      <td>0</td>\n",
       "      <td>10</td>\n",
       "      <td>0</td>\n",
       "    </tr>\n",
       "    <tr>\n",
       "      <th>perc_miss</th>\n",
       "      <td>0.0</td>\n",
       "      <td>0.0</td>\n",
       "      <td>0.921659</td>\n",
       "      <td>0.0</td>\n",
       "    </tr>\n",
       "    <tr>\n",
       "      <th>sum</th>\n",
       "      <td>53073348315</td>\n",
       "      <td>55083176211</td>\n",
       "      <td>1706.0</td>\n",
       "      <td>55083176211</td>\n",
       "    </tr>\n",
       "    <tr>\n",
       "      <th>mean</th>\n",
       "      <td>48915528.400922</td>\n",
       "      <td>50767904.341935</td>\n",
       "      <td>1.586977</td>\n",
       "      <td>50767904.341935</td>\n",
       "    </tr>\n",
       "    <tr>\n",
       "      <th>std</th>\n",
       "      <td>29128181.617819</td>\n",
       "      <td>28496245.372373</td>\n",
       "      <td>1.146859</td>\n",
       "      <td>28496245.372373</td>\n",
       "    </tr>\n",
       "    <tr>\n",
       "      <th>var</th>\n",
       "      <td>848450964360648.625</td>\n",
       "      <td>812036000322492.625</td>\n",
       "      <td>1.315286</td>\n",
       "      <td>812036000322492.625</td>\n",
       "    </tr>\n",
       "    <tr>\n",
       "      <th>lc_iqr</th>\n",
       "      <td>-50950840.5</td>\n",
       "      <td>-48014387.5</td>\n",
       "      <td>-0.5</td>\n",
       "      <td>-48014387.5</td>\n",
       "    </tr>\n",
       "    <tr>\n",
       "      <th>uc_iqr</th>\n",
       "      <td>149040899.5</td>\n",
       "      <td>150558968.5</td>\n",
       "      <td>3.5</td>\n",
       "      <td>150558968.5</td>\n",
       "    </tr>\n",
       "    <tr>\n",
       "      <th>min</th>\n",
       "      <td>26832</td>\n",
       "      <td>154557</td>\n",
       "      <td>1.0</td>\n",
       "      <td>154557</td>\n",
       "    </tr>\n",
       "    <tr>\n",
       "      <th>p1</th>\n",
       "      <td>1327778.84</td>\n",
       "      <td>1160488.28</td>\n",
       "      <td>1.0</td>\n",
       "      <td>1160488.28</td>\n",
       "    </tr>\n",
       "    <tr>\n",
       "      <th>p5</th>\n",
       "      <td>3929507.4</td>\n",
       "      <td>6108729.2</td>\n",
       "      <td>1.0</td>\n",
       "      <td>6108729.2</td>\n",
       "    </tr>\n",
       "    <tr>\n",
       "      <th>p10</th>\n",
       "      <td>7907545.8</td>\n",
       "      <td>11265394.0</td>\n",
       "      <td>1.0</td>\n",
       "      <td>11265394.0</td>\n",
       "    </tr>\n",
       "    <tr>\n",
       "      <th>p25</th>\n",
       "      <td>24046062.0</td>\n",
       "      <td>26450621.0</td>\n",
       "      <td>1.0</td>\n",
       "      <td>26450621.0</td>\n",
       "    </tr>\n",
       "    <tr>\n",
       "      <th>p50</th>\n",
       "      <td>48559754.0</td>\n",
       "      <td>49759488.0</td>\n",
       "      <td>1.0</td>\n",
       "      <td>49759488.0</td>\n",
       "    </tr>\n",
       "    <tr>\n",
       "      <th>p75</th>\n",
       "      <td>74043997.0</td>\n",
       "      <td>76093960.0</td>\n",
       "      <td>2.0</td>\n",
       "      <td>76093960.0</td>\n",
       "    </tr>\n",
       "    <tr>\n",
       "      <th>p90</th>\n",
       "      <td>89445574.8</td>\n",
       "      <td>89510506.2</td>\n",
       "      <td>3.0</td>\n",
       "      <td>89510506.2</td>\n",
       "    </tr>\n",
       "    <tr>\n",
       "      <th>p95</th>\n",
       "      <td>94660566.4</td>\n",
       "      <td>94641249.4</td>\n",
       "      <td>4.0</td>\n",
       "      <td>94641249.4</td>\n",
       "    </tr>\n",
       "    <tr>\n",
       "      <th>p99</th>\n",
       "      <td>98890653.44</td>\n",
       "      <td>98237918.2</td>\n",
       "      <td>6.0</td>\n",
       "      <td>98237918.2</td>\n",
       "    </tr>\n",
       "    <tr>\n",
       "      <th>max</th>\n",
       "      <td>99775483</td>\n",
       "      <td>99961993</td>\n",
       "      <td>8.0</td>\n",
       "      <td>99961993</td>\n",
       "    </tr>\n",
       "  </tbody>\n",
       "</table>\n",
       "</div>"
      ],
      "text/plain": [
       "                        claim_id          customer_id total_policy_claims  \\\n",
       "dtype                      int64                int64             float64   \n",
       "cardinality                 1085                 1078                   8   \n",
       "n_tot                       1085                 1085                1085   \n",
       "n                           1085                 1085                1075   \n",
       "nmiss                          0                    0                  10   \n",
       "perc_miss                    0.0                  0.0            0.921659   \n",
       "sum                  53073348315          55083176211              1706.0   \n",
       "mean             48915528.400922      50767904.341935            1.586977   \n",
       "std              29128181.617819      28496245.372373            1.146859   \n",
       "var          848450964360648.625  812036000322492.625            1.315286   \n",
       "lc_iqr               -50950840.5          -48014387.5                -0.5   \n",
       "uc_iqr               149040899.5          150558968.5                 3.5   \n",
       "min                        26832               154557                 1.0   \n",
       "p1                    1327778.84           1160488.28                 1.0   \n",
       "p5                     3929507.4            6108729.2                 1.0   \n",
       "p10                    7907545.8           11265394.0                 1.0   \n",
       "p25                   24046062.0           26450621.0                 1.0   \n",
       "p50                   48559754.0           49759488.0                 1.0   \n",
       "p75                   74043997.0           76093960.0                 2.0   \n",
       "p90                   89445574.8           89510506.2                 3.0   \n",
       "p95                   94660566.4           94641249.4                 4.0   \n",
       "p99                  98890653.44           98237918.2                 6.0   \n",
       "max                     99775483             99961993                 8.0   \n",
       "\n",
       "                         CUST_ID  \n",
       "dtype                      int64  \n",
       "cardinality                 1078  \n",
       "n_tot                       1085  \n",
       "n                           1085  \n",
       "nmiss                          0  \n",
       "perc_miss                    0.0  \n",
       "sum                  55083176211  \n",
       "mean             50767904.341935  \n",
       "std              28496245.372373  \n",
       "var          812036000322492.625  \n",
       "lc_iqr               -48014387.5  \n",
       "uc_iqr               150558968.5  \n",
       "min                       154557  \n",
       "p1                    1160488.28  \n",
       "p5                     6108729.2  \n",
       "p10                   11265394.0  \n",
       "p25                   26450621.0  \n",
       "p50                   49759488.0  \n",
       "p75                   76093960.0  \n",
       "p90                   89510506.2  \n",
       "p95                   94641249.4  \n",
       "p99                   98237918.2  \n",
       "max                     99961993  "
      ]
     },
     "execution_count": 10,
     "metadata": {},
     "output_type": "execute_result"
    }
   ],
   "source": [
    "numeric_audit=numeric_columns.apply( lambda x: continuous_var_summary(x))\n",
    "numeric_audit"
   ]
  },
  {
   "cell_type": "code",
   "execution_count": 11,
   "id": "795631e7",
   "metadata": {},
   "outputs": [],
   "source": [
    "categorical_audit= object_columns.apply( lambda x: categorical_var_summary(x))"
   ]
  },
  {
   "cell_type": "code",
   "execution_count": 12,
   "id": "fc88ed4f",
   "metadata": {},
   "outputs": [
    {
     "data": {
      "text/html": [
       "<div>\n",
       "<style scoped>\n",
       "    .dataframe tbody tr th:only-of-type {\n",
       "        vertical-align: middle;\n",
       "    }\n",
       "\n",
       "    .dataframe tbody tr th {\n",
       "        vertical-align: top;\n",
       "    }\n",
       "\n",
       "    .dataframe thead th {\n",
       "        text-align: right;\n",
       "    }\n",
       "</style>\n",
       "<table border=\"1\" class=\"dataframe\">\n",
       "  <thead>\n",
       "    <tr style=\"text-align: right;\">\n",
       "      <th></th>\n",
       "      <th>incident_cause</th>\n",
       "      <th>claim_date</th>\n",
       "      <th>claim_area</th>\n",
       "      <th>police_report</th>\n",
       "      <th>claim_type</th>\n",
       "      <th>claim_amount</th>\n",
       "      <th>fraudulent</th>\n",
       "      <th>gender</th>\n",
       "      <th>DateOfBirth</th>\n",
       "      <th>State</th>\n",
       "      <th>Contact</th>\n",
       "      <th>Segment</th>\n",
       "    </tr>\n",
       "  </thead>\n",
       "  <tbody>\n",
       "    <tr>\n",
       "      <th>n</th>\n",
       "      <td>1085</td>\n",
       "      <td>1085</td>\n",
       "      <td>1085</td>\n",
       "      <td>1085</td>\n",
       "      <td>1085</td>\n",
       "      <td>1020</td>\n",
       "      <td>1085</td>\n",
       "      <td>1085</td>\n",
       "      <td>1085</td>\n",
       "      <td>1085</td>\n",
       "      <td>1085</td>\n",
       "      <td>1085</td>\n",
       "    </tr>\n",
       "    <tr>\n",
       "      <th>nmiss</th>\n",
       "      <td>0</td>\n",
       "      <td>0</td>\n",
       "      <td>0</td>\n",
       "      <td>0</td>\n",
       "      <td>0</td>\n",
       "      <td>65</td>\n",
       "      <td>0</td>\n",
       "      <td>0</td>\n",
       "      <td>0</td>\n",
       "      <td>0</td>\n",
       "      <td>0</td>\n",
       "      <td>0</td>\n",
       "    </tr>\n",
       "    <tr>\n",
       "      <th>MODE</th>\n",
       "      <td>Other causes</td>\n",
       "      <td>04/04/2018</td>\n",
       "      <td>Auto</td>\n",
       "      <td>No</td>\n",
       "      <td>Material only</td>\n",
       "      <td>$2320</td>\n",
       "      <td>No</td>\n",
       "      <td>Male</td>\n",
       "      <td>18-Oct-72</td>\n",
       "      <td>NY</td>\n",
       "      <td>743-569-4783</td>\n",
       "      <td>Gold</td>\n",
       "    </tr>\n",
       "    <tr>\n",
       "      <th>FREQ</th>\n",
       "      <td>285</td>\n",
       "      <td>18</td>\n",
       "      <td>970</td>\n",
       "      <td>621</td>\n",
       "      <td>653</td>\n",
       "      <td>7</td>\n",
       "      <td>838</td>\n",
       "      <td>556</td>\n",
       "      <td>2</td>\n",
       "      <td>31</td>\n",
       "      <td>2</td>\n",
       "      <td>375</td>\n",
       "    </tr>\n",
       "    <tr>\n",
       "      <th>PERCENT</th>\n",
       "      <td>26.27</td>\n",
       "      <td>1.66</td>\n",
       "      <td>89.4</td>\n",
       "      <td>57.24</td>\n",
       "      <td>60.18</td>\n",
       "      <td>0.69</td>\n",
       "      <td>77.24</td>\n",
       "      <td>51.24</td>\n",
       "      <td>0.18</td>\n",
       "      <td>2.86</td>\n",
       "      <td>0.18</td>\n",
       "      <td>34.56</td>\n",
       "    </tr>\n",
       "  </tbody>\n",
       "</table>\n",
       "</div>"
      ],
      "text/plain": [
       "        incident_cause  claim_date claim_area police_report     claim_type  \\\n",
       "n                 1085        1085       1085          1085           1085   \n",
       "nmiss                0           0          0             0              0   \n",
       "MODE      Other causes  04/04/2018       Auto            No  Material only   \n",
       "FREQ               285          18        970           621            653   \n",
       "PERCENT          26.27        1.66       89.4         57.24          60.18   \n",
       "\n",
       "        claim_amount fraudulent gender DateOfBirth State       Contact Segment  \n",
       "n               1020       1085   1085        1085  1085          1085    1085  \n",
       "nmiss             65          0      0           0     0             0       0  \n",
       "MODE           $2320         No   Male   18-Oct-72    NY  743-569-4783    Gold  \n",
       "FREQ               7        838    556           2    31             2     375  \n",
       "PERCENT         0.69      77.24  51.24        0.18  2.86          0.18   34.56  "
      ]
     },
     "execution_count": 12,
     "metadata": {},
     "output_type": "execute_result"
    }
   ],
   "source": [
    "categorical_audit"
   ]
  },
  {
   "cell_type": "code",
   "execution_count": 13,
   "id": "64f0018c",
   "metadata": {},
   "outputs": [],
   "source": [
    "Cust_claims[\"DateOfBirth\"] = pd.to_datetime(Cust_claims.DateOfBirth, format = \"%d-%b-%y\")\n",
    "Cust_claims.loc[(Cust_claims.DateOfBirth.dt.year > 2020),\"DateOfBirth\"]=Cust_claims[Cust_claims.DateOfBirth.dt.year > 2020][\"DateOfBirth\"].apply(lambda x: x - pd.DateOffset(years=100))\n"
   ]
  },
  {
   "cell_type": "code",
   "execution_count": 14,
   "id": "cdb6a5df",
   "metadata": {},
   "outputs": [],
   "source": [
    "Cust_claims[\"claim_date\"] = pd.to_datetime(Cust_claims.claim_date, format = \"%m/%d/%Y\")"
   ]
  },
  {
   "cell_type": "code",
   "execution_count": 20,
   "id": "4a43d92d",
   "metadata": {},
   "outputs": [],
   "source": [
    "# 3. Convert the column claim_amount to numeric. Use the appropriate modules/attributes to remove the $ sign."
   ]
  },
  {
   "cell_type": "code",
   "execution_count": 15,
   "id": "ced78168",
   "metadata": {},
   "outputs": [
    {
     "name": "stderr",
     "output_type": "stream",
     "text": [
      "C:\\Users\\harsh\\AppData\\Local\\Temp\\ipykernel_3136\\1006674452.py:2: FutureWarning: The default value of regex will change from True to False in a future version. In addition, single character regular expressions will *not* be treated as literal strings when regex=True.\n",
      "  Cust_claims['claim_amount'] = Cust_claims['claim_amount'].str.replace('$','')\n"
     ]
    }
   ],
   "source": [
    "Cust_claims[\"claim_amount\"]= Cust_claims['claim_amount'].astype(str)\n",
    "Cust_claims['claim_amount'] = Cust_claims['claim_amount'].str.replace('$','')\n",
    "Cust_claims['claim_amount']= np.where(Cust_claims.claim_amount== \"nan\",\"\",Cust_claims.claim_amount )"
   ]
  },
  {
   "cell_type": "code",
   "execution_count": 16,
   "id": "b776d6a8",
   "metadata": {},
   "outputs": [
    {
     "data": {
      "text/plain": [
       "dtype('float64')"
      ]
     },
     "execution_count": 16,
     "metadata": {},
     "output_type": "execute_result"
    }
   ],
   "source": [
    "Cust_claims['claim_amount'] = pd.to_numeric(Cust_claims['claim_amount'])\n",
    "np.dtype(Cust_claims.claim_amount)\n"
   ]
  },
  {
   "cell_type": "code",
   "execution_count": 22,
   "id": "7b65cc30",
   "metadata": {},
   "outputs": [],
   "source": [
    "# 4. Of all the injury claims, some of them have gone unreported with the police. Create an alert flag (1,0) for all such claims."
   ]
  },
  {
   "cell_type": "code",
   "execution_count": 17,
   "id": "e32b25db",
   "metadata": {},
   "outputs": [],
   "source": [
    "Cust_claims['unreported_claims']= np.where(Cust_claims.police_report== 'Unknown',1,0)"
   ]
  },
  {
   "cell_type": "code",
   "execution_count": 18,
   "id": "85c3f679",
   "metadata": {},
   "outputs": [
    {
     "data": {
      "text/html": [
       "<div>\n",
       "<style scoped>\n",
       "    .dataframe tbody tr th:only-of-type {\n",
       "        vertical-align: middle;\n",
       "    }\n",
       "\n",
       "    .dataframe tbody tr th {\n",
       "        vertical-align: top;\n",
       "    }\n",
       "\n",
       "    .dataframe thead th {\n",
       "        text-align: right;\n",
       "    }\n",
       "</style>\n",
       "<table border=\"1\" class=\"dataframe\">\n",
       "  <thead>\n",
       "    <tr style=\"text-align: right;\">\n",
       "      <th></th>\n",
       "      <th>claim_id</th>\n",
       "      <th>customer_id</th>\n",
       "      <th>incident_cause</th>\n",
       "      <th>claim_date</th>\n",
       "      <th>claim_area</th>\n",
       "      <th>police_report</th>\n",
       "      <th>claim_type</th>\n",
       "      <th>claim_amount</th>\n",
       "      <th>total_policy_claims</th>\n",
       "      <th>fraudulent</th>\n",
       "      <th>CUST_ID</th>\n",
       "      <th>gender</th>\n",
       "      <th>DateOfBirth</th>\n",
       "      <th>State</th>\n",
       "      <th>Contact</th>\n",
       "      <th>Segment</th>\n",
       "      <th>unreported_claims</th>\n",
       "    </tr>\n",
       "  </thead>\n",
       "  <tbody>\n",
       "    <tr>\n",
       "      <th>0</th>\n",
       "      <td>54004764</td>\n",
       "      <td>21868593</td>\n",
       "      <td>Driver error</td>\n",
       "      <td>2017-11-27</td>\n",
       "      <td>Auto</td>\n",
       "      <td>No</td>\n",
       "      <td>Material only</td>\n",
       "      <td>2980.0</td>\n",
       "      <td>1.0</td>\n",
       "      <td>No</td>\n",
       "      <td>21868593</td>\n",
       "      <td>Female</td>\n",
       "      <td>1979-01-12</td>\n",
       "      <td>VT</td>\n",
       "      <td>789-916-8172</td>\n",
       "      <td>Platinum</td>\n",
       "      <td>0</td>\n",
       "    </tr>\n",
       "    <tr>\n",
       "      <th>1</th>\n",
       "      <td>33985796</td>\n",
       "      <td>75740424</td>\n",
       "      <td>Crime</td>\n",
       "      <td>2018-10-03</td>\n",
       "      <td>Home</td>\n",
       "      <td>Unknown</td>\n",
       "      <td>Material only</td>\n",
       "      <td>2980.0</td>\n",
       "      <td>3.0</td>\n",
       "      <td>No</td>\n",
       "      <td>75740424</td>\n",
       "      <td>Female</td>\n",
       "      <td>1970-01-13</td>\n",
       "      <td>ME</td>\n",
       "      <td>265-543-1264</td>\n",
       "      <td>Silver</td>\n",
       "      <td>1</td>\n",
       "    </tr>\n",
       "    <tr>\n",
       "      <th>2</th>\n",
       "      <td>53522022</td>\n",
       "      <td>30308357</td>\n",
       "      <td>Other driver error</td>\n",
       "      <td>2018-02-02</td>\n",
       "      <td>Auto</td>\n",
       "      <td>No</td>\n",
       "      <td>Material only</td>\n",
       "      <td>3369.5</td>\n",
       "      <td>1.0</td>\n",
       "      <td>Yes</td>\n",
       "      <td>30308357</td>\n",
       "      <td>Female</td>\n",
       "      <td>1984-03-11</td>\n",
       "      <td>TN</td>\n",
       "      <td>798-631-4758</td>\n",
       "      <td>Silver</td>\n",
       "      <td>0</td>\n",
       "    </tr>\n",
       "    <tr>\n",
       "      <th>3</th>\n",
       "      <td>63017412</td>\n",
       "      <td>30308357</td>\n",
       "      <td>Driver error</td>\n",
       "      <td>2018-04-04</td>\n",
       "      <td>Auto</td>\n",
       "      <td>No</td>\n",
       "      <td>Material only</td>\n",
       "      <td>1950.0</td>\n",
       "      <td>6.0</td>\n",
       "      <td>No</td>\n",
       "      <td>30308357</td>\n",
       "      <td>Female</td>\n",
       "      <td>1984-03-11</td>\n",
       "      <td>TN</td>\n",
       "      <td>798-631-4758</td>\n",
       "      <td>Silver</td>\n",
       "      <td>0</td>\n",
       "    </tr>\n",
       "    <tr>\n",
       "      <th>4</th>\n",
       "      <td>13015401</td>\n",
       "      <td>47830476</td>\n",
       "      <td>Natural causes</td>\n",
       "      <td>2018-06-17</td>\n",
       "      <td>Auto</td>\n",
       "      <td>No</td>\n",
       "      <td>Material only</td>\n",
       "      <td>1680.0</td>\n",
       "      <td>1.0</td>\n",
       "      <td>No</td>\n",
       "      <td>47830476</td>\n",
       "      <td>Female</td>\n",
       "      <td>1986-05-01</td>\n",
       "      <td>MA</td>\n",
       "      <td>413-187-7945</td>\n",
       "      <td>Silver</td>\n",
       "      <td>0</td>\n",
       "    </tr>\n",
       "    <tr>\n",
       "      <th>5</th>\n",
       "      <td>91609100</td>\n",
       "      <td>47830476</td>\n",
       "      <td>Natural causes</td>\n",
       "      <td>2017-04-12</td>\n",
       "      <td>Auto</td>\n",
       "      <td>Unknown</td>\n",
       "      <td>Material only</td>\n",
       "      <td>1440.0</td>\n",
       "      <td>1.0</td>\n",
       "      <td>No</td>\n",
       "      <td>47830476</td>\n",
       "      <td>Female</td>\n",
       "      <td>1986-05-01</td>\n",
       "      <td>MA</td>\n",
       "      <td>413-187-7945</td>\n",
       "      <td>Silver</td>\n",
       "      <td>1</td>\n",
       "    </tr>\n",
       "    <tr>\n",
       "      <th>6</th>\n",
       "      <td>22890252</td>\n",
       "      <td>19269962</td>\n",
       "      <td>Crime</td>\n",
       "      <td>2018-01-13</td>\n",
       "      <td>Auto</td>\n",
       "      <td>No</td>\n",
       "      <td>Material only</td>\n",
       "      <td>2680.0</td>\n",
       "      <td>1.0</td>\n",
       "      <td>No</td>\n",
       "      <td>19269962</td>\n",
       "      <td>Male</td>\n",
       "      <td>1977-05-13</td>\n",
       "      <td>NV</td>\n",
       "      <td>956-871-8691</td>\n",
       "      <td>Gold</td>\n",
       "      <td>0</td>\n",
       "    </tr>\n",
       "    <tr>\n",
       "      <th>7</th>\n",
       "      <td>39219616</td>\n",
       "      <td>19269962</td>\n",
       "      <td>Other causes</td>\n",
       "      <td>2018-09-26</td>\n",
       "      <td>Auto</td>\n",
       "      <td>No</td>\n",
       "      <td>Material only</td>\n",
       "      <td>2240.0</td>\n",
       "      <td>2.0</td>\n",
       "      <td>No</td>\n",
       "      <td>19269962</td>\n",
       "      <td>Male</td>\n",
       "      <td>1977-05-13</td>\n",
       "      <td>NV</td>\n",
       "      <td>956-871-8691</td>\n",
       "      <td>Gold</td>\n",
       "      <td>0</td>\n",
       "    </tr>\n",
       "    <tr>\n",
       "      <th>8</th>\n",
       "      <td>24050443</td>\n",
       "      <td>21831191</td>\n",
       "      <td>Other driver error</td>\n",
       "      <td>2017-10-04</td>\n",
       "      <td>Auto</td>\n",
       "      <td>No</td>\n",
       "      <td>Injury only</td>\n",
       "      <td>38306.5</td>\n",
       "      <td>3.0</td>\n",
       "      <td>Yes</td>\n",
       "      <td>21831191</td>\n",
       "      <td>Male</td>\n",
       "      <td>1977-05-17</td>\n",
       "      <td>NH</td>\n",
       "      <td>419-712-8513</td>\n",
       "      <td>Gold</td>\n",
       "      <td>0</td>\n",
       "    </tr>\n",
       "    <tr>\n",
       "      <th>9</th>\n",
       "      <td>91475471</td>\n",
       "      <td>21831191</td>\n",
       "      <td>Driver error</td>\n",
       "      <td>2018-02-09</td>\n",
       "      <td>Auto</td>\n",
       "      <td>Unknown</td>\n",
       "      <td>Material and injury</td>\n",
       "      <td>36810.0</td>\n",
       "      <td>1.0</td>\n",
       "      <td>No</td>\n",
       "      <td>21831191</td>\n",
       "      <td>Male</td>\n",
       "      <td>1977-05-17</td>\n",
       "      <td>NH</td>\n",
       "      <td>419-712-8513</td>\n",
       "      <td>Gold</td>\n",
       "      <td>1</td>\n",
       "    </tr>\n",
       "  </tbody>\n",
       "</table>\n",
       "</div>"
      ],
      "text/plain": [
       "   claim_id  customer_id      incident_cause claim_date claim_area  \\\n",
       "0  54004764     21868593        Driver error 2017-11-27       Auto   \n",
       "1  33985796     75740424               Crime 2018-10-03       Home   \n",
       "2  53522022     30308357  Other driver error 2018-02-02       Auto   \n",
       "3  63017412     30308357        Driver error 2018-04-04       Auto   \n",
       "4  13015401     47830476      Natural causes 2018-06-17       Auto   \n",
       "5  91609100     47830476      Natural causes 2017-04-12       Auto   \n",
       "6  22890252     19269962               Crime 2018-01-13       Auto   \n",
       "7  39219616     19269962        Other causes 2018-09-26       Auto   \n",
       "8  24050443     21831191  Other driver error 2017-10-04       Auto   \n",
       "9  91475471     21831191        Driver error 2018-02-09       Auto   \n",
       "\n",
       "  police_report           claim_type  claim_amount  total_policy_claims  \\\n",
       "0            No        Material only        2980.0                  1.0   \n",
       "1       Unknown        Material only        2980.0                  3.0   \n",
       "2            No        Material only        3369.5                  1.0   \n",
       "3            No        Material only        1950.0                  6.0   \n",
       "4            No        Material only        1680.0                  1.0   \n",
       "5       Unknown        Material only        1440.0                  1.0   \n",
       "6            No        Material only        2680.0                  1.0   \n",
       "7            No        Material only        2240.0                  2.0   \n",
       "8            No          Injury only       38306.5                  3.0   \n",
       "9       Unknown  Material and injury       36810.0                  1.0   \n",
       "\n",
       "  fraudulent   CUST_ID  gender DateOfBirth State       Contact   Segment  \\\n",
       "0         No  21868593  Female  1979-01-12    VT  789-916-8172  Platinum   \n",
       "1         No  75740424  Female  1970-01-13    ME  265-543-1264    Silver   \n",
       "2        Yes  30308357  Female  1984-03-11    TN  798-631-4758    Silver   \n",
       "3         No  30308357  Female  1984-03-11    TN  798-631-4758    Silver   \n",
       "4         No  47830476  Female  1986-05-01    MA  413-187-7945    Silver   \n",
       "5         No  47830476  Female  1986-05-01    MA  413-187-7945    Silver   \n",
       "6         No  19269962    Male  1977-05-13    NV  956-871-8691      Gold   \n",
       "7         No  19269962    Male  1977-05-13    NV  956-871-8691      Gold   \n",
       "8        Yes  21831191    Male  1977-05-17    NH  419-712-8513      Gold   \n",
       "9         No  21831191    Male  1977-05-17    NH  419-712-8513      Gold   \n",
       "\n",
       "   unreported_claims  \n",
       "0                  0  \n",
       "1                  1  \n",
       "2                  0  \n",
       "3                  0  \n",
       "4                  0  \n",
       "5                  1  \n",
       "6                  0  \n",
       "7                  0  \n",
       "8                  0  \n",
       "9                  1  "
      ]
     },
     "execution_count": 18,
     "metadata": {},
     "output_type": "execute_result"
    }
   ],
   "source": [
    "Cust_claims.head(10)"
   ]
  },
  {
   "cell_type": "code",
   "execution_count": 23,
   "id": "5f0be858",
   "metadata": {},
   "outputs": [],
   "source": [
    "# 5. One customer can claim for insurance more than once and in each claim, multiple categories of claims can be involved. However, customer ID should remain unique. "
   ]
  },
  {
   "cell_type": "code",
   "execution_count": 24,
   "id": "9a11c6cc",
   "metadata": {},
   "outputs": [],
   "source": [
    "Cust_claims= Cust_claims.drop_duplicates(subset=\"customer_id\", keep= \"last\")"
   ]
  },
  {
   "cell_type": "code",
   "execution_count": 25,
   "id": "4d945aee",
   "metadata": {},
   "outputs": [],
   "source": [
    "# 6. Check for missing values and impute the missing values with an appropriate value. (mean for continuous and mode for categorical)"
   ]
  },
  {
   "cell_type": "code",
   "execution_count": 26,
   "id": "01a8ddb8",
   "metadata": {},
   "outputs": [
    {
     "data": {
      "text/plain": [
       "claim_id                0\n",
       "customer_id             0\n",
       "incident_cause          0\n",
       "claim_date              0\n",
       "claim_area              0\n",
       "police_report           0\n",
       "claim_type              0\n",
       "claim_amount           65\n",
       "total_policy_claims    10\n",
       "fraudulent              0\n",
       "CUST_ID                 0\n",
       "gender                  0\n",
       "DateOfBirth             0\n",
       "State                   0\n",
       "Contact                 0\n",
       "Segment                 0\n",
       "unreported_claims       0\n",
       "dtype: int64"
      ]
     },
     "execution_count": 26,
     "metadata": {},
     "output_type": "execute_result"
    }
   ],
   "source": [
    "Cust_claims.isna().sum()"
   ]
  },
  {
   "cell_type": "code",
   "execution_count": 27,
   "id": "40a4019f",
   "metadata": {},
   "outputs": [
    {
     "data": {
      "text/plain": [
       "0"
      ]
     },
     "execution_count": 27,
     "metadata": {},
     "output_type": "execute_result"
    }
   ],
   "source": [
    "Cust_claims[\"claim_amount\"]= Cust_claims['claim_amount'].replace(np.NaN,Cust_claims['claim_amount'].mean())\n",
    "Cust_claims[\"claim_amount\"].isna().sum()\n"
   ]
  },
  {
   "cell_type": "code",
   "execution_count": 28,
   "id": "c7e6cb36",
   "metadata": {},
   "outputs": [
    {
     "name": "stdout",
     "output_type": "stream",
     "text": [
      "<class 'pandas.core.frame.DataFrame'>\n",
      "Int64Index: 1078 entries, 0 to 1084\n",
      "Data columns (total 17 columns):\n",
      " #   Column               Non-Null Count  Dtype         \n",
      "---  ------               --------------  -----         \n",
      " 0   claim_id             1078 non-null   int64         \n",
      " 1   customer_id          1078 non-null   int64         \n",
      " 2   incident_cause       1078 non-null   object        \n",
      " 3   claim_date           1078 non-null   datetime64[ns]\n",
      " 4   claim_area           1078 non-null   object        \n",
      " 5   police_report        1078 non-null   object        \n",
      " 6   claim_type           1078 non-null   object        \n",
      " 7   claim_amount         1078 non-null   float64       \n",
      " 8   total_policy_claims  1068 non-null   float64       \n",
      " 9   fraudulent           1078 non-null   object        \n",
      " 10  CUST_ID              1078 non-null   int64         \n",
      " 11  gender               1078 non-null   object        \n",
      " 12  DateOfBirth          1078 non-null   datetime64[ns]\n",
      " 13  State                1078 non-null   object        \n",
      " 14  Contact              1078 non-null   object        \n",
      " 15  Segment              1078 non-null   object        \n",
      " 16  unreported_claims    1078 non-null   int32         \n",
      "dtypes: datetime64[ns](2), float64(2), int32(1), int64(3), object(9)\n",
      "memory usage: 147.4+ KB\n"
     ]
    }
   ],
   "source": [
    "Cust_claims.info()"
   ]
  },
  {
   "cell_type": "code",
   "execution_count": 29,
   "id": "e5dc1e61",
   "metadata": {},
   "outputs": [],
   "source": [
    "Cust_claims[\"total_policy_claims\"] = Cust_claims['total_policy_claims'].fillna(Cust_claims['total_policy_claims'].mode()[0])"
   ]
  },
  {
   "cell_type": "code",
   "execution_count": 30,
   "id": "41ad0544",
   "metadata": {},
   "outputs": [],
   "source": [
    "Cust_claims[\"total_policy_claims\"]= Cust_claims[\"total_policy_claims\"].astype(str)"
   ]
  },
  {
   "cell_type": "code",
   "execution_count": 31,
   "id": "303eb8e6",
   "metadata": {},
   "outputs": [
    {
     "data": {
      "text/plain": [
       "0"
      ]
     },
     "execution_count": 31,
     "metadata": {},
     "output_type": "execute_result"
    }
   ],
   "source": [
    "Cust_claims[\"total_policy_claims\"].isna().sum()"
   ]
  },
  {
   "cell_type": "code",
   "execution_count": 32,
   "id": "d0aea68d",
   "metadata": {},
   "outputs": [],
   "source": [
    "# 7. Calculate the age of customers in years. Based on the age, categorize the customers according to the below criteria\n",
    "# Children < 18\n",
    "# \n",
    "# Youth 18-30\n",
    "# \n",
    "# Adult 30-60\n",
    "# \n",
    "# Senior > 60"
   ]
  },
  {
   "cell_type": "code",
   "execution_count": 33,
   "id": "3e7ca728",
   "metadata": {},
   "outputs": [],
   "source": [
    "curr_year = pd.to_datetime('today').year\n",
    "dob_year = pd.DatetimeIndex(Cust_claims['DateOfBirth']).year          #extract year from DateOfBirth\n",
    "x = dob_year-100                                               # for the years which belongs to 60's\n",
    "v = curr_year - x\n",
    "y = curr_year - dob_year\n",
    "Cust_claims['age'] = (np.where(dob_year > curr_year,v,y))\n",
    "#Categorising\n",
    "Cust_claims.loc[(Cust_claims.age < 18),'AgeGroup'] = 'Children'\n",
    "Cust_claims.loc[(Cust_claims.age >=18) & (Cust_claims.age <30),'AgeGroup'] = 'Youth'\n",
    "Cust_claims.loc[(Cust_claims.age >=30) & (Cust_claims.age <60),'AgeGroup'] = 'Adult'\n",
    "Cust_claims.loc[(Cust_claims.age >=60),'AgeGroup'] = 'Senior'"
   ]
  },
  {
   "cell_type": "code",
   "execution_count": 34,
   "id": "cf8b3d28",
   "metadata": {},
   "outputs": [
    {
     "data": {
      "text/html": [
       "<div>\n",
       "<style scoped>\n",
       "    .dataframe tbody tr th:only-of-type {\n",
       "        vertical-align: middle;\n",
       "    }\n",
       "\n",
       "    .dataframe tbody tr th {\n",
       "        vertical-align: top;\n",
       "    }\n",
       "\n",
       "    .dataframe thead th {\n",
       "        text-align: right;\n",
       "    }\n",
       "</style>\n",
       "<table border=\"1\" class=\"dataframe\">\n",
       "  <thead>\n",
       "    <tr style=\"text-align: right;\">\n",
       "      <th></th>\n",
       "      <th>claim_id</th>\n",
       "      <th>customer_id</th>\n",
       "      <th>incident_cause</th>\n",
       "      <th>claim_date</th>\n",
       "      <th>claim_area</th>\n",
       "      <th>police_report</th>\n",
       "      <th>claim_type</th>\n",
       "      <th>claim_amount</th>\n",
       "      <th>total_policy_claims</th>\n",
       "      <th>fraudulent</th>\n",
       "      <th>CUST_ID</th>\n",
       "      <th>gender</th>\n",
       "      <th>DateOfBirth</th>\n",
       "      <th>State</th>\n",
       "      <th>Contact</th>\n",
       "      <th>Segment</th>\n",
       "      <th>unreported_claims</th>\n",
       "      <th>age</th>\n",
       "      <th>AgeGroup</th>\n",
       "    </tr>\n",
       "  </thead>\n",
       "  <tbody>\n",
       "    <tr>\n",
       "      <th>0</th>\n",
       "      <td>54004764</td>\n",
       "      <td>21868593</td>\n",
       "      <td>Driver error</td>\n",
       "      <td>2017-11-27</td>\n",
       "      <td>Auto</td>\n",
       "      <td>No</td>\n",
       "      <td>Material only</td>\n",
       "      <td>2980.0</td>\n",
       "      <td>1.0</td>\n",
       "      <td>No</td>\n",
       "      <td>21868593</td>\n",
       "      <td>Female</td>\n",
       "      <td>1979-01-12</td>\n",
       "      <td>VT</td>\n",
       "      <td>789-916-8172</td>\n",
       "      <td>Platinum</td>\n",
       "      <td>0</td>\n",
       "      <td>44</td>\n",
       "      <td>Adult</td>\n",
       "    </tr>\n",
       "    <tr>\n",
       "      <th>1</th>\n",
       "      <td>33985796</td>\n",
       "      <td>75740424</td>\n",
       "      <td>Crime</td>\n",
       "      <td>2018-10-03</td>\n",
       "      <td>Home</td>\n",
       "      <td>Unknown</td>\n",
       "      <td>Material only</td>\n",
       "      <td>2980.0</td>\n",
       "      <td>3.0</td>\n",
       "      <td>No</td>\n",
       "      <td>75740424</td>\n",
       "      <td>Female</td>\n",
       "      <td>1970-01-13</td>\n",
       "      <td>ME</td>\n",
       "      <td>265-543-1264</td>\n",
       "      <td>Silver</td>\n",
       "      <td>1</td>\n",
       "      <td>53</td>\n",
       "      <td>Adult</td>\n",
       "    </tr>\n",
       "    <tr>\n",
       "      <th>3</th>\n",
       "      <td>63017412</td>\n",
       "      <td>30308357</td>\n",
       "      <td>Driver error</td>\n",
       "      <td>2018-04-04</td>\n",
       "      <td>Auto</td>\n",
       "      <td>No</td>\n",
       "      <td>Material only</td>\n",
       "      <td>1950.0</td>\n",
       "      <td>6.0</td>\n",
       "      <td>No</td>\n",
       "      <td>30308357</td>\n",
       "      <td>Female</td>\n",
       "      <td>1984-03-11</td>\n",
       "      <td>TN</td>\n",
       "      <td>798-631-4758</td>\n",
       "      <td>Silver</td>\n",
       "      <td>0</td>\n",
       "      <td>39</td>\n",
       "      <td>Adult</td>\n",
       "    </tr>\n",
       "    <tr>\n",
       "      <th>5</th>\n",
       "      <td>91609100</td>\n",
       "      <td>47830476</td>\n",
       "      <td>Natural causes</td>\n",
       "      <td>2017-04-12</td>\n",
       "      <td>Auto</td>\n",
       "      <td>Unknown</td>\n",
       "      <td>Material only</td>\n",
       "      <td>1440.0</td>\n",
       "      <td>1.0</td>\n",
       "      <td>No</td>\n",
       "      <td>47830476</td>\n",
       "      <td>Female</td>\n",
       "      <td>1986-05-01</td>\n",
       "      <td>MA</td>\n",
       "      <td>413-187-7945</td>\n",
       "      <td>Silver</td>\n",
       "      <td>1</td>\n",
       "      <td>37</td>\n",
       "      <td>Adult</td>\n",
       "    </tr>\n",
       "    <tr>\n",
       "      <th>7</th>\n",
       "      <td>39219616</td>\n",
       "      <td>19269962</td>\n",
       "      <td>Other causes</td>\n",
       "      <td>2018-09-26</td>\n",
       "      <td>Auto</td>\n",
       "      <td>No</td>\n",
       "      <td>Material only</td>\n",
       "      <td>2240.0</td>\n",
       "      <td>2.0</td>\n",
       "      <td>No</td>\n",
       "      <td>19269962</td>\n",
       "      <td>Male</td>\n",
       "      <td>1977-05-13</td>\n",
       "      <td>NV</td>\n",
       "      <td>956-871-8691</td>\n",
       "      <td>Gold</td>\n",
       "      <td>0</td>\n",
       "      <td>46</td>\n",
       "      <td>Adult</td>\n",
       "    </tr>\n",
       "    <tr>\n",
       "      <th>9</th>\n",
       "      <td>91475471</td>\n",
       "      <td>21831191</td>\n",
       "      <td>Driver error</td>\n",
       "      <td>2018-02-09</td>\n",
       "      <td>Auto</td>\n",
       "      <td>Unknown</td>\n",
       "      <td>Material and injury</td>\n",
       "      <td>36810.0</td>\n",
       "      <td>1.0</td>\n",
       "      <td>No</td>\n",
       "      <td>21831191</td>\n",
       "      <td>Male</td>\n",
       "      <td>1977-05-17</td>\n",
       "      <td>NH</td>\n",
       "      <td>419-712-8513</td>\n",
       "      <td>Gold</td>\n",
       "      <td>1</td>\n",
       "      <td>46</td>\n",
       "      <td>Adult</td>\n",
       "    </tr>\n",
       "    <tr>\n",
       "      <th>10</th>\n",
       "      <td>12878692</td>\n",
       "      <td>18401412</td>\n",
       "      <td>Driver error</td>\n",
       "      <td>2018-01-13</td>\n",
       "      <td>Auto</td>\n",
       "      <td>No</td>\n",
       "      <td>Material only</td>\n",
       "      <td>1730.0</td>\n",
       "      <td>4.0</td>\n",
       "      <td>No</td>\n",
       "      <td>18401412</td>\n",
       "      <td>Male</td>\n",
       "      <td>1999-03-02</td>\n",
       "      <td>AR</td>\n",
       "      <td>752-398-2914</td>\n",
       "      <td>Gold</td>\n",
       "      <td>0</td>\n",
       "      <td>24</td>\n",
       "      <td>Youth</td>\n",
       "    </tr>\n",
       "    <tr>\n",
       "      <th>11</th>\n",
       "      <td>27026412</td>\n",
       "      <td>73486606</td>\n",
       "      <td>Natural causes</td>\n",
       "      <td>2018-04-10</td>\n",
       "      <td>Auto</td>\n",
       "      <td>No</td>\n",
       "      <td>Material only</td>\n",
       "      <td>1160.0</td>\n",
       "      <td>3.0</td>\n",
       "      <td>No</td>\n",
       "      <td>73486606</td>\n",
       "      <td>Male</td>\n",
       "      <td>1999-10-25</td>\n",
       "      <td>AK</td>\n",
       "      <td>256-968-9172</td>\n",
       "      <td>Silver</td>\n",
       "      <td>0</td>\n",
       "      <td>24</td>\n",
       "      <td>Youth</td>\n",
       "    </tr>\n",
       "    <tr>\n",
       "      <th>12</th>\n",
       "      <td>43908336</td>\n",
       "      <td>32813689</td>\n",
       "      <td>Crime</td>\n",
       "      <td>2018-02-15</td>\n",
       "      <td>Auto</td>\n",
       "      <td>Unknown</td>\n",
       "      <td>Material only</td>\n",
       "      <td>2620.0</td>\n",
       "      <td>1.0</td>\n",
       "      <td>No</td>\n",
       "      <td>32813689</td>\n",
       "      <td>Male</td>\n",
       "      <td>1993-10-12</td>\n",
       "      <td>ID</td>\n",
       "      <td>142-324-7481</td>\n",
       "      <td>Silver</td>\n",
       "      <td>1</td>\n",
       "      <td>30</td>\n",
       "      <td>Adult</td>\n",
       "    </tr>\n",
       "    <tr>\n",
       "      <th>13</th>\n",
       "      <td>63246959</td>\n",
       "      <td>33507197</td>\n",
       "      <td>Crime</td>\n",
       "      <td>2017-07-22</td>\n",
       "      <td>Auto</td>\n",
       "      <td>No</td>\n",
       "      <td>Material only</td>\n",
       "      <td>2748.5</td>\n",
       "      <td>2.0</td>\n",
       "      <td>Yes</td>\n",
       "      <td>33507197</td>\n",
       "      <td>Female</td>\n",
       "      <td>1966-09-09</td>\n",
       "      <td>RI</td>\n",
       "      <td>165-519-4583</td>\n",
       "      <td>Gold</td>\n",
       "      <td>0</td>\n",
       "      <td>57</td>\n",
       "      <td>Adult</td>\n",
       "    </tr>\n",
       "  </tbody>\n",
       "</table>\n",
       "</div>"
      ],
      "text/plain": [
       "    claim_id  customer_id  incident_cause claim_date claim_area police_report  \\\n",
       "0   54004764     21868593    Driver error 2017-11-27       Auto            No   \n",
       "1   33985796     75740424           Crime 2018-10-03       Home       Unknown   \n",
       "3   63017412     30308357    Driver error 2018-04-04       Auto            No   \n",
       "5   91609100     47830476  Natural causes 2017-04-12       Auto       Unknown   \n",
       "7   39219616     19269962    Other causes 2018-09-26       Auto            No   \n",
       "9   91475471     21831191    Driver error 2018-02-09       Auto       Unknown   \n",
       "10  12878692     18401412    Driver error 2018-01-13       Auto            No   \n",
       "11  27026412     73486606  Natural causes 2018-04-10       Auto            No   \n",
       "12  43908336     32813689           Crime 2018-02-15       Auto       Unknown   \n",
       "13  63246959     33507197           Crime 2017-07-22       Auto            No   \n",
       "\n",
       "             claim_type  claim_amount total_policy_claims fraudulent  \\\n",
       "0         Material only        2980.0                 1.0         No   \n",
       "1         Material only        2980.0                 3.0         No   \n",
       "3         Material only        1950.0                 6.0         No   \n",
       "5         Material only        1440.0                 1.0         No   \n",
       "7         Material only        2240.0                 2.0         No   \n",
       "9   Material and injury       36810.0                 1.0         No   \n",
       "10        Material only        1730.0                 4.0         No   \n",
       "11        Material only        1160.0                 3.0         No   \n",
       "12        Material only        2620.0                 1.0         No   \n",
       "13        Material only        2748.5                 2.0        Yes   \n",
       "\n",
       "     CUST_ID  gender DateOfBirth State       Contact   Segment  \\\n",
       "0   21868593  Female  1979-01-12    VT  789-916-8172  Platinum   \n",
       "1   75740424  Female  1970-01-13    ME  265-543-1264    Silver   \n",
       "3   30308357  Female  1984-03-11    TN  798-631-4758    Silver   \n",
       "5   47830476  Female  1986-05-01    MA  413-187-7945    Silver   \n",
       "7   19269962    Male  1977-05-13    NV  956-871-8691      Gold   \n",
       "9   21831191    Male  1977-05-17    NH  419-712-8513      Gold   \n",
       "10  18401412    Male  1999-03-02    AR  752-398-2914      Gold   \n",
       "11  73486606    Male  1999-10-25    AK  256-968-9172    Silver   \n",
       "12  32813689    Male  1993-10-12    ID  142-324-7481    Silver   \n",
       "13  33507197  Female  1966-09-09    RI  165-519-4583      Gold   \n",
       "\n",
       "    unreported_claims  age AgeGroup  \n",
       "0                   0   44    Adult  \n",
       "1                   1   53    Adult  \n",
       "3                   0   39    Adult  \n",
       "5                   1   37    Adult  \n",
       "7                   0   46    Adult  \n",
       "9                   1   46    Adult  \n",
       "10                  0   24    Youth  \n",
       "11                  0   24    Youth  \n",
       "12                  1   30    Adult  \n",
       "13                  0   57    Adult  "
      ]
     },
     "execution_count": 34,
     "metadata": {},
     "output_type": "execute_result"
    }
   ],
   "source": [
    "Cust_claims.head(10)\n"
   ]
  },
  {
   "cell_type": "code",
   "execution_count": 35,
   "id": "644e6c5e",
   "metadata": {},
   "outputs": [
    {
     "data": {
      "text/plain": [
       "AgeGroup\n",
       "Adult     802\n",
       "Senior    102\n",
       "Youth     174\n",
       "Name: age, dtype: int64"
      ]
     },
     "execution_count": 35,
     "metadata": {},
     "output_type": "execute_result"
    }
   ],
   "source": [
    "Cust_claims.groupby([\"AgeGroup\"])[\"age\"].count()"
   ]
  },
  {
   "cell_type": "code",
   "execution_count": 36,
   "id": "9efc0e46",
   "metadata": {},
   "outputs": [],
   "source": [
    "# 8. What is the average amount claimed by the customers from various segments?"
   ]
  },
  {
   "cell_type": "code",
   "execution_count": 37,
   "id": "8d595259",
   "metadata": {},
   "outputs": [
    {
     "data": {
      "text/plain": [
       "Segment\n",
       "Gold        12846.39\n",
       "Platinum    12371.64\n",
       "Silver      12267.15\n",
       "Name: claim_amount, dtype: float64"
      ]
     },
     "execution_count": 37,
     "metadata": {},
     "output_type": "execute_result"
    }
   ],
   "source": [
    "Avg_amount_segment= round(Cust_claims.groupby([\"Segment\"])[\"claim_amount\"].mean(),2)\n",
    "Avg_amount_segment"
   ]
  },
  {
   "cell_type": "code",
   "execution_count": 38,
   "id": "f98bdfa5",
   "metadata": {},
   "outputs": [],
   "source": [
    "# 9. What is the total claim amount based on incident cause for all the claims that have been done at least 20 days prior to 1st of October, 2018."
   ]
  },
  {
   "cell_type": "code",
   "execution_count": 39,
   "id": "7ededa6e",
   "metadata": {},
   "outputs": [
    {
     "data": {
      "text/plain": [
       "incident_cause\n",
       "total_Crime                  721937.45\n",
       "total_Driver error          3315847.88\n",
       "total_Natural causes        1312744.91\n",
       "total_Other causes          3723147.30\n",
       "total_Other driver error    3277533.37\n",
       "Name: claim_amount, dtype: float64"
      ]
     },
     "execution_count": 39,
     "metadata": {},
     "output_type": "execute_result"
    }
   ],
   "source": [
    "Amount_incedent= round(Cust_claims.loc[Cust_claims.claim_date < \"2018-09-10\",:].groupby(\"incident_cause\")[\"claim_amount\"].sum().add_prefix(\"total_\"),2)\n",
    "Amount_incedent"
   ]
  },
  {
   "cell_type": "code",
   "execution_count": 40,
   "id": "39633cb1",
   "metadata": {},
   "outputs": [],
   "source": [
    "# 10. How many adults from TX, DE and AK claimed insurance for driver related issues and causes?"
   ]
  },
  {
   "cell_type": "code",
   "execution_count": 41,
   "id": "08f5e12e",
   "metadata": {},
   "outputs": [
    {
     "data": {
      "text/plain": [
       "Index(['claim_id', 'customer_id', 'incident_cause', 'claim_date', 'claim_area',\n",
       "       'police_report', 'claim_type', 'claim_amount', 'total_policy_claims',\n",
       "       'fraudulent', 'CUST_ID', 'gender', 'DateOfBirth', 'State', 'Contact',\n",
       "       'Segment', 'unreported_claims', 'age', 'AgeGroup'],\n",
       "      dtype='object')"
      ]
     },
     "execution_count": 41,
     "metadata": {},
     "output_type": "execute_result"
    }
   ],
   "source": [
    "Cust_claims.columns"
   ]
  },
  {
   "cell_type": "code",
   "execution_count": 42,
   "id": "f27dc41b",
   "metadata": {},
   "outputs": [],
   "source": [
    "Adults_claims_count= Cust_claims.loc[(Cust_claims.incident_cause.str.lower().str.contains(\"driver\") & (Cust_claims.State== \"TX\") | (Cust_claims.State== \"DE\") | (Cust_claims.State== \"AK\")) ].groupby([\"State\"])[\"claim_amount\"].count()\n"
   ]
  },
  {
   "cell_type": "code",
   "execution_count": 43,
   "id": "369ecf0e",
   "metadata": {},
   "outputs": [
    {
     "data": {
      "text/plain": [
       "State\n",
       "AK    19\n",
       "DE    29\n",
       "TX    10\n",
       "Name: claim_amount, dtype: int64"
      ]
     },
     "execution_count": 43,
     "metadata": {},
     "output_type": "execute_result"
    }
   ],
   "source": [
    "Adults_claims_count"
   ]
  },
  {
   "cell_type": "code",
   "execution_count": 44,
   "id": "e1f3189d",
   "metadata": {},
   "outputs": [],
   "source": [
    "# 11. Draw a pie chart between the aggregated value of claim amount based on gender and segment. Represent the claim amount as a percentage on the pie chart."
   ]
  },
  {
   "cell_type": "code",
   "execution_count": 45,
   "id": "dd307ff4",
   "metadata": {},
   "outputs": [
    {
     "data": {
      "text/html": [
       "<div>\n",
       "<style scoped>\n",
       "    .dataframe tbody tr th:only-of-type {\n",
       "        vertical-align: middle;\n",
       "    }\n",
       "\n",
       "    .dataframe tbody tr th {\n",
       "        vertical-align: top;\n",
       "    }\n",
       "\n",
       "    .dataframe thead th {\n",
       "        text-align: right;\n",
       "    }\n",
       "</style>\n",
       "<table border=\"1\" class=\"dataframe\">\n",
       "  <thead>\n",
       "    <tr style=\"text-align: right;\">\n",
       "      <th></th>\n",
       "      <th>Segment</th>\n",
       "      <th>gender</th>\n",
       "      <th>claim_amount</th>\n",
       "    </tr>\n",
       "  </thead>\n",
       "  <tbody>\n",
       "    <tr>\n",
       "      <th>0</th>\n",
       "      <td>Gold</td>\n",
       "      <td>Female</td>\n",
       "      <td>2110042.41</td>\n",
       "    </tr>\n",
       "    <tr>\n",
       "      <th>1</th>\n",
       "      <td>Gold</td>\n",
       "      <td>Male</td>\n",
       "      <td>2655966.87</td>\n",
       "    </tr>\n",
       "    <tr>\n",
       "      <th>2</th>\n",
       "      <td>Platinum</td>\n",
       "      <td>Female</td>\n",
       "      <td>2369720.43</td>\n",
       "    </tr>\n",
       "    <tr>\n",
       "      <th>3</th>\n",
       "      <td>Platinum</td>\n",
       "      <td>Male</td>\n",
       "      <td>2096443.42</td>\n",
       "    </tr>\n",
       "    <tr>\n",
       "      <th>4</th>\n",
       "      <td>Silver</td>\n",
       "      <td>Female</td>\n",
       "      <td>1897301.87</td>\n",
       "    </tr>\n",
       "    <tr>\n",
       "      <th>5</th>\n",
       "      <td>Silver</td>\n",
       "      <td>Male</td>\n",
       "      <td>2347130.84</td>\n",
       "    </tr>\n",
       "  </tbody>\n",
       "</table>\n",
       "</div>"
      ],
      "text/plain": [
       "    Segment  gender  claim_amount\n",
       "0      Gold  Female    2110042.41\n",
       "1      Gold    Male    2655966.87\n",
       "2  Platinum  Female    2369720.43\n",
       "3  Platinum    Male    2096443.42\n",
       "4    Silver  Female    1897301.87\n",
       "5    Silver    Male    2347130.84"
      ]
     },
     "execution_count": 45,
     "metadata": {},
     "output_type": "execute_result"
    }
   ],
   "source": [
    "Claim_gender_segment= round(Cust_claims.groupby([\"Segment\", \"gender\"])[\"claim_amount\"].sum().reset_index(),2)\n",
    "Claim_gender_segment"
   ]
  },
  {
   "cell_type": "code",
   "execution_count": 46,
   "id": "5b3fc6a9",
   "metadata": {},
   "outputs": [
    {
     "data": {
      "text/html": [
       "<div>\n",
       "<style scoped>\n",
       "    .dataframe tbody tr th:only-of-type {\n",
       "        vertical-align: middle;\n",
       "    }\n",
       "\n",
       "    .dataframe tbody tr th {\n",
       "        vertical-align: top;\n",
       "    }\n",
       "\n",
       "    .dataframe thead th {\n",
       "        text-align: right;\n",
       "    }\n",
       "</style>\n",
       "<table border=\"1\" class=\"dataframe\">\n",
       "  <thead>\n",
       "    <tr style=\"text-align: right;\">\n",
       "      <th>gender</th>\n",
       "      <th>Female</th>\n",
       "      <th>Male</th>\n",
       "    </tr>\n",
       "    <tr>\n",
       "      <th>Segment</th>\n",
       "      <th></th>\n",
       "      <th></th>\n",
       "    </tr>\n",
       "  </thead>\n",
       "  <tbody>\n",
       "    <tr>\n",
       "      <th>Gold</th>\n",
       "      <td>2110042.41</td>\n",
       "      <td>2655966.87</td>\n",
       "    </tr>\n",
       "    <tr>\n",
       "      <th>Platinum</th>\n",
       "      <td>2369720.43</td>\n",
       "      <td>2096443.42</td>\n",
       "    </tr>\n",
       "    <tr>\n",
       "      <th>Silver</th>\n",
       "      <td>1897301.87</td>\n",
       "      <td>2347130.84</td>\n",
       "    </tr>\n",
       "  </tbody>\n",
       "</table>\n",
       "</div>"
      ],
      "text/plain": [
       "gender        Female        Male\n",
       "Segment                         \n",
       "Gold      2110042.41  2655966.87\n",
       "Platinum  2369720.43  2096443.42\n",
       "Silver    1897301.87  2347130.84"
      ]
     },
     "execution_count": 46,
     "metadata": {},
     "output_type": "execute_result"
    }
   ],
   "source": [
    "Claim_gender_segment_pivot= Claim_gender_segment.pivot(index=\"Segment\", columns= \"gender\", values= \"claim_amount\")\n",
    "Claim_gender_segment_pivot"
   ]
  },
  {
   "cell_type": "code",
   "execution_count": 47,
   "id": "a64de5bb",
   "metadata": {},
   "outputs": [
    {
     "data": {
      "image/png": "[encoded data removed]",
      "text/plain": [
       "<Figure size 2000x1000 with 3 Axes>"
      ]
     },
     "metadata": {},
     "output_type": "display_data"
    }
   ],
   "source": [
    "Claim_gender_segment_pivot.T.plot(kind=\"pie\", subplots= True, legend= False,figsize=(20,10))\n",
    "plt.show()"
   ]
  },
  {
   "cell_type": "code",
   "execution_count": 48,
   "id": "000a38dd",
   "metadata": {},
   "outputs": [],
   "source": [
    "# 12. Among males and females, which gender had claimed the most for any type of driver related issues? E.g. This metric can be compared using a bar chart"
   ]
  },
  {
   "cell_type": "code",
   "execution_count": 49,
   "id": "8c65776a",
   "metadata": {},
   "outputs": [
    {
     "data": {
      "text/html": [
       "<div>\n",
       "<style scoped>\n",
       "    .dataframe tbody tr th:only-of-type {\n",
       "        vertical-align: middle;\n",
       "    }\n",
       "\n",
       "    .dataframe tbody tr th {\n",
       "        vertical-align: top;\n",
       "    }\n",
       "\n",
       "    .dataframe thead th {\n",
       "        text-align: right;\n",
       "    }\n",
       "</style>\n",
       "<table border=\"1\" class=\"dataframe\">\n",
       "  <thead>\n",
       "    <tr style=\"text-align: right;\">\n",
       "      <th></th>\n",
       "      <th>gender</th>\n",
       "      <th>countOf_gender</th>\n",
       "    </tr>\n",
       "  </thead>\n",
       "  <tbody>\n",
       "    <tr>\n",
       "      <th>0</th>\n",
       "      <td>Female</td>\n",
       "      <td>221</td>\n",
       "    </tr>\n",
       "    <tr>\n",
       "      <th>1</th>\n",
       "      <td>Male</td>\n",
       "      <td>281</td>\n",
       "    </tr>\n",
       "  </tbody>\n",
       "</table>\n",
       "</div>"
      ],
      "text/plain": [
       "   gender  countOf_gender\n",
       "0  Female             221\n",
       "1    Male             281"
      ]
     },
     "execution_count": 49,
     "metadata": {},
     "output_type": "execute_result"
    }
   ],
   "source": [
    "Claim_gender_driver= Cust_claims.loc[(Cust_claims.incident_cause.str.lower().str.contains(\"driver\"))].groupby([\"gender\"])[[\"gender\"]].count().add_prefix(\"countOf_\").reset_index()\n",
    "Claim_gender_driver"
   ]
  },
  {
   "cell_type": "code",
   "execution_count": 50,
   "id": "526ed746",
   "metadata": {},
   "outputs": [
    {
     "data": {
      "text/plain": [
       "[]"
      ]
     },
     "execution_count": 50,
     "metadata": {},
     "output_type": "execute_result"
    },
    {
     "data": {
      "image/png": "[encoded data removed]",
      "text/plain": [
       "<Figure size 640x480 with 1 Axes>"
      ]
     },
     "metadata": {},
     "output_type": "display_data"
    }
   ],
   "source": [
    "sns.barplot(x= \"gender\", y= \"countOf_gender\", data= Claim_gender_driver)\n",
    "plt.plot()"
   ]
  },
  {
   "cell_type": "code",
   "execution_count": 51,
   "id": "bbbdbf86",
   "metadata": {},
   "outputs": [],
   "source": [
    "# 13. Which age group had the maximum fraudulent policy claims? Visualize it on a bar chart."
   ]
  },
  {
   "cell_type": "code",
   "execution_count": 52,
   "id": "a75b9e22",
   "metadata": {},
   "outputs": [],
   "source": [
    "Cust_claims[\"Frauds\"]= np.where(Cust_claims.fraudulent == \"Yes\",1,0)\n"
   ]
  },
  {
   "cell_type": "code",
   "execution_count": 53,
   "id": "e2299efa",
   "metadata": {},
   "outputs": [
    {
     "data": {
      "text/html": [
       "<div>\n",
       "<style scoped>\n",
       "    .dataframe tbody tr th:only-of-type {\n",
       "        vertical-align: middle;\n",
       "    }\n",
       "\n",
       "    .dataframe tbody tr th {\n",
       "        vertical-align: top;\n",
       "    }\n",
       "\n",
       "    .dataframe thead th {\n",
       "        text-align: right;\n",
       "    }\n",
       "</style>\n",
       "<table border=\"1\" class=\"dataframe\">\n",
       "  <thead>\n",
       "    <tr style=\"text-align: right;\">\n",
       "      <th></th>\n",
       "      <th>AgeGroup</th>\n",
       "      <th>Frauds</th>\n",
       "    </tr>\n",
       "  </thead>\n",
       "  <tbody>\n",
       "    <tr>\n",
       "      <th>0</th>\n",
       "      <td>Adult</td>\n",
       "      <td>188</td>\n",
       "    </tr>\n",
       "    <tr>\n",
       "      <th>1</th>\n",
       "      <td>Senior</td>\n",
       "      <td>26</td>\n",
       "    </tr>\n",
       "    <tr>\n",
       "      <th>2</th>\n",
       "      <td>Youth</td>\n",
       "      <td>31</td>\n",
       "    </tr>\n",
       "  </tbody>\n",
       "</table>\n",
       "</div>"
      ],
      "text/plain": [
       "  AgeGroup  Frauds\n",
       "0    Adult     188\n",
       "1   Senior      26\n",
       "2    Youth      31"
      ]
     },
     "execution_count": 53,
     "metadata": {},
     "output_type": "execute_result"
    }
   ],
   "source": [
    "AgeGroup_max_frauds= Cust_claims.groupby([\"AgeGroup\"])[\"Frauds\"].sum().reset_index()\n",
    "AgeGroup_max_frauds"
   ]
  },
  {
   "cell_type": "code",
   "execution_count": 54,
   "id": "d1a8f4ef",
   "metadata": {},
   "outputs": [
    {
     "data": {
      "text/plain": [
       "[]"
      ]
     },
     "execution_count": 54,
     "metadata": {},
     "output_type": "execute_result"
    },
    {
     "data": {
      "image/png": "[encoded data removed]",
      "text/plain": [
       "<Figure size 640x480 with 1 Axes>"
      ]
     },
     "metadata": {},
     "output_type": "display_data"
    }
   ],
   "source": [
    "sns.barplot(x= \"AgeGroup\", y=\"Frauds\", data=AgeGroup_max_frauds )\n",
    "plt.plot()"
   ]
  },
  {
   "cell_type": "code",
   "execution_count": 55,
   "id": "042750ed",
   "metadata": {},
   "outputs": [],
   "source": [
    "# 14. Visualize the monthly trend of the total amount that has been claimed by the customers. Ensure that on the “month” axis, the month is in a chronological order not alphabetical order.\n"
   ]
  },
  {
   "cell_type": "code",
   "execution_count": 56,
   "id": "adf37a72",
   "metadata": {},
   "outputs": [],
   "source": [
    "Cust_claims['claim_month'] = pd.to_datetime(Cust_claims['claim_date'])\n",
    "Cust_claims['Claim_month'] = Cust_claims['claim_month'].dt.month"
   ]
  },
  {
   "cell_type": "code",
   "execution_count": 57,
   "id": "4a445c80",
   "metadata": {},
   "outputs": [
    {
     "data": {
      "image/png": "[encoded data removed]",
      "text/plain": [
       "<Figure size 640x480 with 1 Axes>"
      ]
     },
     "metadata": {},
     "output_type": "display_data"
    }
   ],
   "source": [
    "pd.pivot_table(Cust_claims,index=\"Claim_month\",values=\"claim_amount\").plot(kind='bar')\n",
    "plt.ylabel('Total amount spend')\n",
    "plt.show()"
   ]
  },
  {
   "cell_type": "code",
   "execution_count": 58,
   "id": "29a56fea",
   "metadata": {},
   "outputs": [],
   "source": [
    "# 15. What is the average claim amount for gender and age categories and suitably represent the above using a facetted bar chart, one facet that represents fraudulent claims and the other for non-fraudulent claims."
   ]
  },
  {
   "cell_type": "code",
   "execution_count": 59,
   "id": "fc17213a",
   "metadata": {},
   "outputs": [],
   "source": [
    "Frauds_amount_gender= pd.DataFrame(Cust_claims.loc[(Cust_claims.fraudulent==\"Yes\")].groupby([\"gender\",\"AgeGroup\"])[[\"claim_amount\"]].mean().add_prefix(\"Fraud_\"))\n",
    "Non_Frauds_amount_gender=pd.DataFrame(Cust_claims.loc[(Cust_claims.fraudulent==\"No\")].groupby([\"gender\",\"AgeGroup\"])[[\"claim_amount\"]].mean().add_prefix(\"Non_Fraud_\"))\n"
   ]
  },
  {
   "cell_type": "code",
   "execution_count": 60,
   "id": "6d1fe9fe",
   "metadata": {},
   "outputs": [],
   "source": [
    "Claims_age_gender=round(pd.merge(Frauds_amount_gender,Non_Frauds_amount_gender, on=[\"gender\",\"AgeGroup\"]),2)"
   ]
  },
  {
   "cell_type": "code",
   "execution_count": 61,
   "id": "e466b60c",
   "metadata": {},
   "outputs": [
    {
     "data": {
      "text/html": [
       "<div>\n",
       "<style scoped>\n",
       "    .dataframe tbody tr th:only-of-type {\n",
       "        vertical-align: middle;\n",
       "    }\n",
       "\n",
       "    .dataframe tbody tr th {\n",
       "        vertical-align: top;\n",
       "    }\n",
       "\n",
       "    .dataframe thead th {\n",
       "        text-align: right;\n",
       "    }\n",
       "</style>\n",
       "<table border=\"1\" class=\"dataframe\">\n",
       "  <thead>\n",
       "    <tr style=\"text-align: right;\">\n",
       "      <th></th>\n",
       "      <th></th>\n",
       "      <th>Fraud_claim_amount</th>\n",
       "      <th>Non_Fraud_claim_amount</th>\n",
       "    </tr>\n",
       "    <tr>\n",
       "      <th>gender</th>\n",
       "      <th>AgeGroup</th>\n",
       "      <th></th>\n",
       "      <th></th>\n",
       "    </tr>\n",
       "  </thead>\n",
       "  <tbody>\n",
       "    <tr>\n",
       "      <th rowspan=\"3\" valign=\"top\">Female</th>\n",
       "      <th>Adult</th>\n",
       "      <td>12751.46</td>\n",
       "      <td>12126.99</td>\n",
       "    </tr>\n",
       "    <tr>\n",
       "      <th>Senior</th>\n",
       "      <td>3332.29</td>\n",
       "      <td>13350.57</td>\n",
       "    </tr>\n",
       "    <tr>\n",
       "      <th>Youth</th>\n",
       "      <td>10144.56</td>\n",
       "      <td>13149.62</td>\n",
       "    </tr>\n",
       "    <tr>\n",
       "      <th rowspan=\"3\" valign=\"top\">Male</th>\n",
       "      <th>Adult</th>\n",
       "      <td>15362.62</td>\n",
       "      <td>12307.32</td>\n",
       "    </tr>\n",
       "    <tr>\n",
       "      <th>Senior</th>\n",
       "      <td>19463.11</td>\n",
       "      <td>10871.00</td>\n",
       "    </tr>\n",
       "    <tr>\n",
       "      <th>Youth</th>\n",
       "      <td>8937.87</td>\n",
       "      <td>13277.99</td>\n",
       "    </tr>\n",
       "  </tbody>\n",
       "</table>\n",
       "</div>"
      ],
      "text/plain": [
       "                 Fraud_claim_amount  Non_Fraud_claim_amount\n",
       "gender AgeGroup                                            \n",
       "Female Adult               12751.46                12126.99\n",
       "       Senior               3332.29                13350.57\n",
       "       Youth               10144.56                13149.62\n",
       "Male   Adult               15362.62                12307.32\n",
       "       Senior              19463.11                10871.00\n",
       "       Youth                8937.87                13277.99"
      ]
     },
     "execution_count": 61,
     "metadata": {},
     "output_type": "execute_result"
    }
   ],
   "source": [
    "Claims_age_gender"
   ]
  },
  {
   "cell_type": "code",
   "execution_count": 62,
   "id": "18f496dd",
   "metadata": {},
   "outputs": [
    {
     "data": {
      "image/png": "[encoded data removed]",
      "text/plain": [
       "<Figure size 1000x1000 with 2 Axes>"
      ]
     },
     "metadata": {},
     "output_type": "display_data"
    }
   ],
   "source": [
    "Claims_age_gender.plot(kind=\"bar\", subplots= True, legend= True,figsize=(10,10))\n",
    "plt.show()"
   ]
  },
  {
   "cell_type": "code",
   "execution_count": 63,
   "id": "0f2aaac7",
   "metadata": {},
   "outputs": [],
   "source": [
    "# 16. Is there any similarity in the amount claimed by males and females?"
   ]
  },
  {
   "cell_type": "code",
   "execution_count": 64,
   "id": "96f61aa3",
   "metadata": {},
   "outputs": [],
   "source": [
    "claim_male = Cust_claims['claim_amount'].loc[Cust_claims['gender']==\"Male\"]\n",
    "claim_female = Cust_claims['claim_amount'].loc[Cust_claims['gender']==\"Female\"]\n"
   ]
  },
  {
   "cell_type": "code",
   "execution_count": 65,
   "id": "a3f519b0",
   "metadata": {},
   "outputs": [
    {
     "name": "stdout",
     "output_type": "stream",
     "text": [
      "The average amount claimed by males is 12884.829631308417\n",
      "The average amount claimed by females is 12100.692029236623\n"
     ]
    }
   ],
   "source": [
    "print(\"The average amount claimed by males is {}\".format(claim_male.mean()))\n",
    "\n",
    "print(\"The average amount claimed by females is {}\".format(claim_female.mean()))"
   ]
  },
  {
   "cell_type": "code",
   "execution_count": 66,
   "id": "08b7041b",
   "metadata": {},
   "outputs": [],
   "source": [
    "import scipy.stats as stats"
   ]
  },
  {
   "cell_type": "code",
   "execution_count": 68,
   "id": "8b48c350",
   "metadata": {},
   "outputs": [
    {
     "data": {
      "text/plain": [
       "0.9630529881732579"
      ]
     },
     "execution_count": 68,
     "metadata": {},
     "output_type": "execute_result"
    }
   ],
   "source": [
    "eq_var = stats.ttest_ind(a= claim_male,\n",
    "                b= claim_female,\n",
    "                equal_var=True)  \n",
    "eq_var.statistic\n"
   ]
  },
  {
   "cell_type": "code",
   "execution_count": 70,
   "id": "d36db2b5",
   "metadata": {},
   "outputs": [
    {
     "data": {
      "text/plain": [
       "0.9637241707490979"
      ]
     },
     "execution_count": 70,
     "metadata": {},
     "output_type": "execute_result"
    }
   ],
   "source": [
    "uneq_var = stats.ttest_ind(a= claim_male,\n",
    "                b= claim_female,\n",
    "                equal_var=False)  \n",
    "uneq_var.statistic"
   ]
  },
  {
   "cell_type": "code",
   "execution_count": 71,
   "id": "0ee1e817",
   "metadata": {},
   "outputs": [
    {
     "name": "stdout",
     "output_type": "stream",
     "text": [
      " For the above test, the t-score is 0.9630529881732579 and the p-value is 0.3357373087404283\n",
      "We fail to reject null hypothesis\n"
     ]
    }
   ],
   "source": [
    "t= eq_var.statistic\n",
    "p= eq_var.pvalue\n",
    "\n",
    "print(\" For the above test, the t-score is {} and the p-value is {}\".format(t,p))\n",
    "\n",
    "if(p<0.05):\n",
    "    print('We reject null hypothesis')\n",
    "else:\n",
    "    print('We fail to reject null hypothesis')"
   ]
  },
  {
   "cell_type": "code",
   "execution_count": 72,
   "id": "b670342a",
   "metadata": {},
   "outputs": [],
   "source": [
    "# 17. Is there any relationship between age category and segment?"
   ]
  },
  {
   "cell_type": "code",
   "execution_count": 73,
   "id": "a92a4ee1",
   "metadata": {},
   "outputs": [
    {
     "data": {
      "text/html": [
       "<div>\n",
       "<style scoped>\n",
       "    .dataframe tbody tr th:only-of-type {\n",
       "        vertical-align: middle;\n",
       "    }\n",
       "\n",
       "    .dataframe tbody tr th {\n",
       "        vertical-align: top;\n",
       "    }\n",
       "\n",
       "    .dataframe thead th {\n",
       "        text-align: right;\n",
       "    }\n",
       "</style>\n",
       "<table border=\"1\" class=\"dataframe\">\n",
       "  <thead>\n",
       "    <tr style=\"text-align: right;\">\n",
       "      <th>Segment</th>\n",
       "      <th>Gold</th>\n",
       "      <th>Platinum</th>\n",
       "      <th>Silver</th>\n",
       "      <th>All</th>\n",
       "    </tr>\n",
       "    <tr>\n",
       "      <th>AgeGroup</th>\n",
       "      <th></th>\n",
       "      <th></th>\n",
       "      <th></th>\n",
       "      <th></th>\n",
       "    </tr>\n",
       "  </thead>\n",
       "  <tbody>\n",
       "    <tr>\n",
       "      <th>Adult</th>\n",
       "      <td>277</td>\n",
       "      <td>268</td>\n",
       "      <td>257</td>\n",
       "      <td>802</td>\n",
       "    </tr>\n",
       "    <tr>\n",
       "      <th>Senior</th>\n",
       "      <td>38</td>\n",
       "      <td>34</td>\n",
       "      <td>30</td>\n",
       "      <td>102</td>\n",
       "    </tr>\n",
       "    <tr>\n",
       "      <th>Youth</th>\n",
       "      <td>56</td>\n",
       "      <td>59</td>\n",
       "      <td>59</td>\n",
       "      <td>174</td>\n",
       "    </tr>\n",
       "    <tr>\n",
       "      <th>All</th>\n",
       "      <td>371</td>\n",
       "      <td>361</td>\n",
       "      <td>346</td>\n",
       "      <td>1078</td>\n",
       "    </tr>\n",
       "  </tbody>\n",
       "</table>\n",
       "</div>"
      ],
      "text/plain": [
       "Segment   Gold  Platinum  Silver   All\n",
       "AgeGroup                              \n",
       "Adult      277       268     257   802\n",
       "Senior      38        34      30   102\n",
       "Youth       56        59      59   174\n",
       "All        371       361     346  1078"
      ]
     },
     "execution_count": 73,
     "metadata": {},
     "output_type": "execute_result"
    }
   ],
   "source": [
    "agecat_seg = pd.crosstab(Cust_claims.AgeGroup, Cust_claims.Segment, margins = True)\n",
    "agecat_seg"
   ]
  },
  {
   "cell_type": "code",
   "execution_count": 74,
   "id": "1bda2ae3",
   "metadata": {},
   "outputs": [
    {
     "data": {
      "text/plain": [
       "Chi2ContingencyResult(statistic=0.9130129732295924, pvalue=0.9996131825739819, dof=9, expected_freq=array([[ 276.01298701,  268.57328386,  257.41372913,  802.        ],\n",
       "       [  35.1038961 ,   34.15769944,   32.73840445,  102.        ],\n",
       "       [  59.88311688,   58.2690167 ,   55.84786642,  174.        ],\n",
       "       [ 371.        ,  361.        ,  346.        , 1078.        ]]))"
      ]
     },
     "execution_count": 74,
     "metadata": {},
     "output_type": "execute_result"
    }
   ],
   "source": [
    "Chi_test = stats.chi2_contingency(observed= agecat_seg)\n",
    "Chi_test"
   ]
  },
  {
   "cell_type": "code",
   "execution_count": 75,
   "id": "beb1415f",
   "metadata": {},
   "outputs": [
    {
     "name": "stdout",
     "output_type": "stream",
     "text": [
      "The chi square stat is 0.9130129732295924 and the p value is 0.9996131825739819\n"
     ]
    }
   ],
   "source": [
    "print(\"The chi square stat is {} and the p value is {}\".format(Chi_test[0],Chi_test[1]))"
   ]
  },
  {
   "cell_type": "code",
   "execution_count": 76,
   "id": "a56d1155",
   "metadata": {},
   "outputs": [],
   "source": [
    "# 18. The current year has shown a significant rise in claim amounts as compared to 2016-17 fiscal average which was $10,000."
   ]
  },
  {
   "cell_type": "code",
   "execution_count": 77,
   "id": "8debd81c",
   "metadata": {},
   "outputs": [],
   "source": [
    "Cust_claims[\"Year\"]= Cust_claims['claim_month'].dt.year"
   ]
  },
  {
   "cell_type": "code",
   "execution_count": 78,
   "id": "4cd4b68d",
   "metadata": {},
   "outputs": [],
   "source": [
    "Current_year= Cust_claims.loc[Cust_claims.Year == 2018][\"claim_amount\"]\n",
    "amt_2016_17= Cust_claims.loc[Cust_claims.Year==2017][\"claim_amount\"]"
   ]
  },
  {
   "cell_type": "code",
   "execution_count": 79,
   "id": "76039a5c",
   "metadata": {},
   "outputs": [
    {
     "ename": "ValueError",
     "evalue": "x and y must have the same length.",
     "output_type": "error",
     "traceback": [
      "\u001b[1;31m---------------------------------------------------------------------------\u001b[0m",
      "\u001b[1;31mValueError\u001b[0m                                Traceback (most recent call last)",
      "Cell \u001b[1;32mIn[79], line 1\u001b[0m\n\u001b[1;32m----> 1\u001b[0m stats\u001b[38;5;241m.\u001b[39mpearsonr(Current_year,amt_2016_17)\n",
      "File \u001b[1;32m~\\anaconda3\\Lib\\site-packages\\scipy\\stats\\_stats_py.py:4408\u001b[0m, in \u001b[0;36mpearsonr\u001b[1;34m(x, y, alternative)\u001b[0m\n\u001b[0;32m   4406\u001b[0m n \u001b[38;5;241m=\u001b[39m \u001b[38;5;28mlen\u001b[39m(x)\n\u001b[0;32m   4407\u001b[0m \u001b[38;5;28;01mif\u001b[39;00m n \u001b[38;5;241m!=\u001b[39m \u001b[38;5;28mlen\u001b[39m(y):\n\u001b[1;32m-> 4408\u001b[0m     \u001b[38;5;28;01mraise\u001b[39;00m \u001b[38;5;167;01mValueError\u001b[39;00m(\u001b[38;5;124m'\u001b[39m\u001b[38;5;124mx and y must have the same length.\u001b[39m\u001b[38;5;124m'\u001b[39m)\n\u001b[0;32m   4410\u001b[0m \u001b[38;5;28;01mif\u001b[39;00m n \u001b[38;5;241m<\u001b[39m \u001b[38;5;241m2\u001b[39m:\n\u001b[0;32m   4411\u001b[0m     \u001b[38;5;28;01mraise\u001b[39;00m \u001b[38;5;167;01mValueError\u001b[39;00m(\u001b[38;5;124m'\u001b[39m\u001b[38;5;124mx and y must have length at least 2.\u001b[39m\u001b[38;5;124m'\u001b[39m)\n",
      "\u001b[1;31mValueError\u001b[0m: x and y must have the same length."
     ]
    }
   ],
   "source": [
    "stats.pearsonr(Current_year,amt_2016_17)"
   ]
  },
  {
   "cell_type": "code",
   "execution_count": 80,
   "id": "5b31d695",
   "metadata": {},
   "outputs": [],
   "source": [
    "# 19. Is there any difference between age groups and insurance claims?"
   ]
  },
  {
   "cell_type": "code",
   "execution_count": 81,
   "id": "c7f93305",
   "metadata": {},
   "outputs": [
    {
     "name": "stdout",
     "output_type": "stream",
     "text": [
      "The f-value is 0.8243054715998778 and the p value is 0.3641489228997691\n",
      "We fail to reject null hypothesis\n"
     ]
    }
   ],
   "source": [
    "age_group_1 = Cust_claims['total_policy_claims'].loc[Cust_claims['AgeGroup']==\"Youth\"]\n",
    "age_group_2 = Cust_claims['total_policy_claims'].loc[Cust_claims['AgeGroup']==\"Adult\"]\n",
    "# Perfrom the Anova\n",
    "anova = stats.f_oneway(age_group_1,age_group_2)\n",
    "# Statistic :  F Value\n",
    "f = anova.statistic\n",
    "p = anova.pvalue\n",
    "print(\"The f-value is {} and the p value is {}\".format(f,p))\n",
    "if(p<0.05):\n",
    "    print('We reject null hypothesis')\n",
    "else:\n",
    "    print('We fail to reject null hypothesis')\n"
   ]
  },
  {
   "cell_type": "code",
   "execution_count": 82,
   "id": "3734e76b",
   "metadata": {},
   "outputs": [],
   "source": [
    "# 20. Is there any relationship between total number of policy claims and the claimed amount?"
   ]
  },
  {
   "cell_type": "code",
   "execution_count": 83,
   "id": "3168adbe",
   "metadata": {},
   "outputs": [],
   "source": [
    "Cust_claims['total_policy_claims'] = pd.to_numeric(Cust_claims['total_policy_claims'])"
   ]
  },
  {
   "cell_type": "code",
   "execution_count": 84,
   "id": "2c914514",
   "metadata": {},
   "outputs": [
    {
     "data": {
      "text/plain": [
       "-0.022392720732099896"
      ]
     },
     "execution_count": 84,
     "metadata": {},
     "output_type": "execute_result"
    }
   ],
   "source": [
    "#Correlation\n",
    "Cust_claims.total_policy_claims.corr(other= Cust_claims.claim_amount)"
   ]
  },
  {
   "cell_type": "code",
   "execution_count": 85,
   "id": "e960f75d",
   "metadata": {},
   "outputs": [],
   "source": [
    "# As the correlation is negative the number of policy claims in inversely propotional to the claimed amount."
   ]
  },
  {
   "cell_type": "code",
   "execution_count": null,
   "id": "68fb7196",
   "metadata": {},
   "outputs": [],
   "source": []
  }
 ],
 "metadata": {
  "kernelspec": {
   "display_name": "Python 3 (ipykernel)",
   "language": "python",
   "name": "python3"
  },
  "language_info": {
   "codemirror_mode": {
    "name": "ipython",
    "version": 3
   },
   "file_extension": ".py",
   "mimetype": "text/x-python",
   "name": "python",
   "nbconvert_exporter": "python",
   "pygments_lexer": "ipython3",
   "version": "3.11.3"
  }
 },
 "nbformat": 4,
 "nbformat_minor": 5
}
